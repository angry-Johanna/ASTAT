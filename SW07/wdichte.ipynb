{
 "cells": [
  {
   "cell_type": "markdown",
   "id": "b535259f-4390-4249-8e32-ee3f58400fe0",
   "metadata": {},
   "source": [
    "# Normalverteilung\n",
    "## Inhaltsverzeichnis\n",
    "* [Wahrscheinlichkeitsdichte](#wdichte)\n",
    "* [Quantile](#quant)\n",
    "    * [Beispiel](#bsp1)\n",
    "* [Normalverteilung](#normv)\n",
    "    * [Eigenschaften der Normalverteilung](#normve)"
   ]
  },
  {
   "cell_type": "markdown",
   "id": "8f70daed-c7d0-42f7-8ed3-2893b2483bcf",
   "metadata": {},
   "source": [
    "## Wahrscheinlichkeitsdichte <a name=\"wdichte\"></a>\n",
    "Für Wahrscheinlichkeitsdichte $f(x)$ gelten folgende Eigenschaften:\n",
    "\n",
    "* $f(x)\\geq0$ - das heisst, die Kurve liegt überhalb der x-Achse\n",
    "* Wahrscheinlichkeit $P(a<X\\leq b)$ entspricht der Fläche zwischen $a$ und $b$ unter $f(x)$\n",
    "* `Die gesamte Fläche unter der Kurve ist 1`\n",
    "    * Dies ist die Wahrscheinlichkeit, dass irgend ein Wert gemessen wird!!"
   ]
  },
  {
   "cell_type": "markdown",
   "id": "c16bef5d-27fd-4937-879d-510edbadd54c",
   "metadata": {
    "jupyter": {
     "source_hidden": true
    },
    "tags": []
   },
   "source": [
    "![wdichte](images/wdichte.PNG)\n",
    "\n",
    "Wichtig: Wahrscheinlichkeitsdichte müssen keine \"schöne\" Form haben, aber ist üblich."
   ]
  },
  {
   "cell_type": "markdown",
   "id": "af19fb58-08e9-4d9e-81c9-4204ddbb67a8",
   "metadata": {
    "tags": []
   },
   "source": [
    "## Quantile <a name=\"quant\"></a>\n",
    "Stetige Verteilung: $\\alpha$-Quantil $q_\\alpha$ derjenige Wert, wo die Fläche (Wahrscheinlichkeit) unter der Dichtefunktion von $-\\infty$ bis $q_\\alpha$ gerade $\\alpha$ entspricht.\n",
    "\n",
    "50%-Quantil: Median"
   ]
  },
  {
   "cell_type": "markdown",
   "id": "63b338a3-482c-4e50-8e55-18b0538865d2",
   "metadata": {
    "jupyter": {
     "source_hidden": true
    },
    "tags": []
   },
   "source": [
    "![quant](images/quant.PNG)"
   ]
  },
  {
   "cell_type": "markdown",
   "id": "be093578-641f-4ce7-abc3-b2eee3903459",
   "metadata": {},
   "source": [
    "### Beispiel Körpergrösse <a name=\"bsp1\"></a>\n",
    "Für $\\alpha=0.75$ ist das zugehörige Quantil $q_\\alpha=182.5$. Das heisst, 75% der gemessenen Personen sind `kleiner oder gleich` 182.5cm."
   ]
  },
  {
   "cell_type": "markdown",
   "id": "ffe02e50-8e2d-487f-9015-66688a929101",
   "metadata": {},
   "source": [
    "## Normalverteilung <a name=\"normv\"></a>\n",
    "* Wertebereich: $W=(-\\infty,\\infty)$\n",
    "* Erwartungswert: $E[X]=\\mu$\n",
    "* Varianz: Var(X)$=\\sigma^2$\n",
    "* Dichte:\n",
    "\n",
    "$f(x)=\\frac{1}{\\sqrt{2\\pi\\sigma}}exp\\{-\\frac{1}{2}(\\frac{x-\\mu}{\\sigma})^2\\}$"
   ]
  },
  {
   "cell_type": "markdown",
   "id": "00c1e003-afc0-46a4-9d15-7ceb73a9b380",
   "metadata": {
    "tags": []
   },
   "source": [
    "![quant](images/normv.PNG)"
   ]
  },
  {
   "cell_type": "markdown",
   "id": "9cd6c263-b341-48fd-b881-896a9fbca910",
   "metadata": {},
   "source": [
    "### Eigenschaften der Normalverteilung <a name=\"normve\"></a>\n",
    "* Dichtefunktion \"glockenförmig\"\n",
    "* Durch Parameter $\\mu$ Verschiebung der Kurve:\n",
    "    * Nach rechts, falls $\\mu$ positiv\n",
    "    * Nach links, falls $\\mu$ negativ\n",
    "* Durch Parameter $\\sigma$ wird die Kurve:\n",
    "    * schmal und hoch um $\\mu$, falls $\\sigma$ klein (nahe 0)\n",
    "    * weit und tief um $\\mu$, falls $\\sigma$ gross"
   ]
  },
  {
   "cell_type": "markdown",
   "id": "5fda8a67-09dd-4f4d-9823-4b930dde2183",
   "metadata": {},
   "source": [
    "`Folie 17 Fortsetzen`"
   ]
  },
  {
   "cell_type": "code",
   "execution_count": null,
   "id": "66961f23-06e9-40b1-980f-daacd29ce30e",
   "metadata": {},
   "outputs": [],
   "source": []
  }
 ],
 "metadata": {
  "kernelspec": {
   "display_name": "R",
   "language": "R",
   "name": "ir"
  },
  "language_info": {
   "codemirror_mode": "r",
   "file_extension": ".r",
   "mimetype": "text/x-r-source",
   "name": "R",
   "pygments_lexer": "r",
   "version": "4.1.1"
  }
 },
 "nbformat": 4,
 "nbformat_minor": 5
}

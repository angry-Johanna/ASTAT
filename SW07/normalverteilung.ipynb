{
 "cells": [
  {
   "cell_type": "markdown",
   "id": "9f282a1f-72f2-4f13-945b-8ce523b288e3",
   "metadata": {},
   "source": [
    "# Normalverteilung\n",
    "## Inhaltsverzeichnis\n",
    "* [Kontinuirliche Messdaten](#kontM)\n",
    "    * [Definitionen](#kontMdef)\n",
    "        * [Intervalle](#kontMdefI)\n",
    "* [Wahrscheinlichkeit](#wahrsch)\n",
    "* [Wahrscheinlichkeitsdichte](#wdichte)"
   ]
  },
  {
   "cell_type": "markdown",
   "id": "607ae571-0984-4a43-ad17-73b954377933",
   "metadata": {},
   "source": [
    "## Kontinuirliche Messdaten <a name=\"kontM\"></a>\n",
    "In vielen Anwendungen: Keine diskreten Daten, sondern Messdaten.\n",
    "Messdaten können jeden Wert in einem bestimmten Bereich annehmen (Also auch 1.972346829274...)\n",
    "\n",
    "### Definitionen <a name=\"kontMdef\"></a>\n",
    "* Wertebereich $W_X$ einer Zufallsvariable: Menge aller Werte, die $X$ annehmen kann\n",
    "* Zufallsvariable $X$ stetig: Wertebereich $W_X$ kontinuirlich (also nicht löchrig)\n",
    "* Wichtige kont. Wertebereiche: $W_X = \\mathbb{R},\\mathbb{R}^+$ oder $[0,1]$ (Alle Zahlen zwischen 0 und 1)\n",
    "\n",
    "#### Intervalle: <a name=\"kontMdefI\"></a>\n",
    "* Runde Klammer: Wert ausserhalb des Intervalls\n",
    "* Eckige Klammer: Wert innerhalb des Intervalls\n",
    "\n",
    "Beispiel: $(a,b]$: alle Punkte $x$ mit $x>a$ und $x\\leq b$\n"
   ]
  },
  {
   "cell_type": "markdown",
   "id": "3ab98680-5341-4540-85d9-9291952854dc",
   "metadata": {},
   "source": [
    "## Wahrscheinlichkeit <a name=\"wahrsch\"></a>\n",
    "Wenn man beliebig genaue Messungen macht, kann man nicht mehr die Wahrscheinlichkeit ausrechnen. Weil zum Beispiel, dass jemand genau 174.2837482736510837583cm gross ist, ist gleich 0. (Anders als bei den diskreten Zufallsvariablen, wo es eine feste Grössen gibt, die x annehmen kann, zB x = 174cm).\n",
    "\n",
    "Also sagt man: `Wahrscheinlichkeit, dass Messwert in einem bestimmten Bereich liegt`\n",
    "\n",
    "**Beispiel**:\n",
    "\n",
    "Zwischen 174 und 175cm. $P(174 < X \\leq 175)$\n",
    "\n",
    "Diese Wahrscheinlichkeit ist nicht mehr 0.\n",
    "\n",
    "Da $P(X=174)=P(X=175)=0$ gilt\n",
    "\n",
    "$P(174 < X \\leq 175) = P(174 \\leq X \\leq 175) = P(174 < X < 175)$\n",
    "\n",
    "Neuer Begriff: `Wahrscheinlichkeitsdichte`"
   ]
  },
  {
   "cell_type": "markdown",
   "id": "82a989ff-7ad4-4e17-aa1d-886b34caede0",
   "metadata": {},
   "source": []
  },
  {
   "cell_type": "markdown",
   "id": "b3e02d95-f3ba-4fc0-8a95-267ca1aa30fb",
   "metadata": {},
   "source": []
  },
  {
   "cell_type": "markdown",
   "id": "fb0f4ff8-10de-4ec0-b8dc-3a0dd9e73387",
   "metadata": {},
   "source": []
  }
 ],
 "metadata": {
  "kernelspec": {
   "display_name": "R",
   "language": "R",
   "name": "ir"
  },
  "language_info": {
   "codemirror_mode": "r",
   "file_extension": ".r",
   "mimetype": "text/x-r-source",
   "name": "R",
   "pygments_lexer": "r",
   "version": "4.1.1"
  }
 },
 "nbformat": 4,
 "nbformat_minor": 5
}

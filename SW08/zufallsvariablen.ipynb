{
 "cells": [
  {
   "cell_type": "markdown",
   "id": "f6776f1a-2b6d-417f-8c49-b77626dbbc59",
   "metadata": {},
   "source": [
    "# Zufallsvariablen\n",
    "## Inhaltsverzeichnis\n",
    "* [$X_i$](#1)\n",
    "* [Summe und Durchschnitt](#2)\n",
    "* [Erwartungswert und Varianz](#3)\n",
    "* [Allgemein](#4)\n",
    "* [Standardfehler](#5)\n",
    "* [Übungsbeispiel](#6)"
   ]
  },
  {
   "cell_type": "markdown",
   "id": "51711a3b-66fa-40ab-9272-2155867c0a00",
   "metadata": {},
   "source": [
    "## $X_i$ <a name=\"1\"></a>\n",
    "$X_i$: Die $i$-te Wiederholung von Zufallsexperiment"
   ]
  },
  {
   "cell_type": "markdown",
   "id": "3ca0b2d3-56c1-46ad-9591-2ef6aa6739c8",
   "metadata": {},
   "source": [
    "## Summe und Durchschnitt <a name=\"2\"></a>\n",
    "Gegeben ZV:\n",
    "\n",
    "$X_1,...,X_n$\n",
    "\n",
    "Summe:\n",
    "\n",
    "$S_n=X_1+...+X_n=\\sum\\limits_{i=1}^nX_i$\n",
    "\n",
    "Arithmetisches Mittel:\n",
    "\n",
    "$\\overline{X}_n=\\frac{1}{n}(X_1+X_2+...+X_n)=\\frac{1}{n}\\sum\\limits_{i=1}^nX_i=\\frac{1}{n}S_n$"
   ]
  },
  {
   "cell_type": "markdown",
   "id": "89f3a316-9179-40e2-b8b3-76d483f7389c",
   "metadata": {},
   "source": [
    "## Erwartungswert und Varianz <a name=\"3\"></a>\n",
    "Annahme:\n",
    "\n",
    "$X_1,...,X_n$ i.i.d -> unabhängig und identisch verteilte ZVs\n",
    "\n",
    "`Erwartungswert:` \n",
    "\n",
    "$E(X)=\\mu=\\overline{X}_n=\\frac{X_1+...+X_n}{n}$\n",
    "\n",
    "`Varianz`\n",
    "\n",
    "$Var(X_i)=\\sigma^2_X=\\frac{(X_1-E(X))^2+...+(X_n-E(X))^2}{n}$\n",
    "\n",
    "in R:"
   ]
  },
  {
   "cell_type": "code",
   "execution_count": 10,
   "id": "d4163e96-1750-4485-bb57-16781f059ab2",
   "metadata": {},
   "outputs": [
    {
     "data": {
      "text/html": [
       "3.5"
      ],
      "text/latex": [
       "3.5"
      ],
      "text/markdown": [
       "3.5"
      ],
      "text/plain": [
       "[1] 3.5"
      ]
     },
     "metadata": {},
     "output_type": "display_data"
    },
    {
     "data": {
      "text/html": [
       "2.91666666666667"
      ],
      "text/latex": [
       "2.91666666666667"
      ],
      "text/markdown": [
       "2.91666666666667"
      ],
      "text/plain": [
       "[1] 2.916667"
      ]
     },
     "metadata": {},
     "output_type": "display_data"
    },
    {
     "data": {
      "text/html": [
       "<style>\n",
       ".list-inline {list-style: none; margin:0; padding: 0}\n",
       ".list-inline>li {display: inline-block}\n",
       ".list-inline>li:not(:last-child)::after {content: \"\\00b7\"; padding: 0 .5ex}\n",
       "</style>\n",
       "<ol class=list-inline><li>4</li><li>2</li><li>6</li></ol>\n"
      ],
      "text/latex": [
       "\\begin{enumerate*}\n",
       "\\item 4\n",
       "\\item 2\n",
       "\\item 6\n",
       "\\end{enumerate*}\n"
      ],
      "text/markdown": [
       "1. 4\n",
       "2. 2\n",
       "3. 6\n",
       "\n",
       "\n"
      ],
      "text/plain": [
       "[1] 4 2 6"
      ]
     },
     "metadata": {},
     "output_type": "display_data"
    }
   ],
   "source": [
    "x <- c(1, 2, 3, 4, 5, 6)\n",
    "ave <- mean(x) #Erwartungswert\n",
    "var <- mean((x - ave)^2) #Varianz\n",
    "ave\n",
    "var\n",
    "sim <- sample(x, 3, replace = T) # drei Zufallsziehungen aus x, replace = T heisst mit zurücklegen\n",
    "sim"
   ]
  },
  {
   "cell_type": "markdown",
   "id": "110016df-bf71-4e69-b548-8e59f9b4111d",
   "metadata": {},
   "source": [
    "### Allgemein <a name=\"4\"></a>\n",
    "Annahme:\n",
    "\n",
    "$X_1,...,X_n$ i.i.d \n",
    "\n",
    "`Kennzahlen von` $S_n$\n",
    "\n",
    "$E(S_n)=n\\mu$\n",
    "\n",
    "$Var(S_n)=nVar(X_i)$\n",
    "\n",
    "$\\sigma(S_n)=\\sqrt{n}\\sigma_X$\n",
    "\n",
    "`Kennzahlen von` $\\overline{X}_n$\n",
    "\n",
    "$E(\\overline{X}_n)=\\mu$\n",
    "\n",
    "$Var(\\overline{X}_n)=\\frac{\\sigma^2_X}{n}$\n",
    "\n",
    "$\\sigma(\\overline{X}_n)=\\frac{\\sigma_X}{\\sqrt{n}}$"
   ]
  },
  {
   "cell_type": "markdown",
   "id": "18fc079f-914b-43ad-987c-db7faf25ad43",
   "metadata": {},
   "source": [
    "## Standardfehler <a name=\"5\"></a>\n",
    "Standardabweichung des arithmetischen Mittels (Standardfehler) ist *nicht* proportional zu $\\frac{1}{n}$, sondern nimmt ab mit dem Faktor $\\frac{1}{\\sqrt{n}}$:\n",
    "\n",
    "$\\sigma_{\\overline{X}_n}=\\frac{1}{\\sqrt{n}}\\sigma_X$\n",
    "\n",
    "Um den *Standardfehler* zu halbieren, braucht man also *viermal* so viele Beobachtungen. Dies nennt man auch das $\\sqrt{n}$-Gesetz."
   ]
  },
  {
   "cell_type": "markdown",
   "id": "9c62dd64-0a0f-44a6-bbb4-2b631560b9f6",
   "metadata": {},
   "source": [
    "## Übungsbeispiel <a name=\"6\"></a>\n",
    "Die Lebensdauer eines bestimmten elektrischen Teils ist durchschnittlich `100` Stunden mit Standardabweichung von `20` Stunden.\n",
    "\n",
    "Testen `16` solcher Teile\n",
    "\n",
    "Wie gross ist W’keit, dass das Stichprobenmittel\n",
    "* a) unter `104` Stunden oder\n",
    "* b) zwischen `98` und `104` Stunden liegt?\n",
    "\n",
    "Lösung:\n",
    "* $X_i$: Zufallsvariable für Lebensdauer des Teils $i$\n",
    "* $\\mu=100$\n",
    "* $\\sigma_X=20$\n",
    "* Annahme i.i.d\n",
    "* Betrachten durchschnittliche Lebensdauer $\\overline{X}_16$ annähernd verteilt wie:\n",
    "\n",
    "$\\overline{X}_{16}\\sim N(\\mu,\\frac{\\sigma^2_X}{n})=N(100,\\frac{20^2}{16})=N(100,25)$\n",
    "\n",
    "Gesucht für a):\n",
    "\n",
    "$P(\\overline{X}_16 \\leq 104)$"
   ]
  },
  {
   "cell_type": "code",
   "execution_count": 11,
   "id": "0952ba49-893b-4aa4-8fae-c860f8dd05c2",
   "metadata": {},
   "outputs": [
    {
     "data": {
      "text/html": [
       "0.788144601416603"
      ],
      "text/latex": [
       "0.788144601416603"
      ],
      "text/markdown": [
       "0.788144601416603"
      ],
      "text/plain": [
       "[1] 0.7881446"
      ]
     },
     "metadata": {},
     "output_type": "display_data"
    }
   ],
   "source": [
    "pnorm(q=104,mean=100,sd=20/sqrt(16))"
   ]
  },
  {
   "cell_type": "markdown",
   "id": "97a8e85d-48e4-4de8-898c-30ee7d556e38",
   "metadata": {},
   "source": [
    "Gesucht für b):\n",
    "\n",
    "$P(98 \\leq \\overline{X}_16 \\leq 104)$"
   ]
  },
  {
   "cell_type": "code",
   "execution_count": 12,
   "id": "1041a7e6-2d9a-4120-9351-197e36e1c095",
   "metadata": {},
   "outputs": [
    {
     "data": {
      "text/html": [
       "0.443566343026928"
      ],
      "text/latex": [
       "0.443566343026928"
      ],
      "text/markdown": [
       "0.443566343026928"
      ],
      "text/plain": [
       "[1] 0.4435663"
      ]
     },
     "metadata": {},
     "output_type": "display_data"
    }
   ],
   "source": [
    "pnorm(q=104,mean=100,sd=20/sqrt(16)) - pnorm(q=98,mean=100,sd=20/sqrt(16))"
   ]
  },
  {
   "cell_type": "code",
   "execution_count": null,
   "id": "702205a3-42c7-4916-a056-b5f23909f2f2",
   "metadata": {},
   "outputs": [],
   "source": []
  }
 ],
 "metadata": {
  "kernelspec": {
   "display_name": "R",
   "language": "R",
   "name": "ir"
  },
  "language_info": {
   "codemirror_mode": "r",
   "file_extension": ".r",
   "mimetype": "text/x-r-source",
   "name": "R",
   "pygments_lexer": "r",
   "version": "4.1.1"
  }
 },
 "nbformat": 4,
 "nbformat_minor": 5
}

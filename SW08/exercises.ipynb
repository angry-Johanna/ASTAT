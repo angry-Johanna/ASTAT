{
 "cells": [
  {
   "cell_type": "markdown",
   "id": "37838e1d-8699-4a0b-bab3-8cd778f30dce",
   "metadata": {},
   "source": [
    "# Exercises Serie 8\n",
    "## Inhaltsverzeichnis\n",
    "* [8.1](#81)\n",
    "* [8.2](#82)\n",
    "* [8.3](#83)"
   ]
  },
  {
   "cell_type": "markdown",
   "id": "6b0f8090-9c12-4b20-b700-a8787bcb05e6",
   "metadata": {},
   "source": [
    "## 8.1 <a name=\"81\"></a>\n",
    "`Die Zeit, die ein Passagier an einem Flughafen Check-in Schalter verbringt ist eine\n",
    "Zufallsvariable mit Mittelwert 8.2 Minuten und Standardabweichung 6 Minuten. Wir\n",
    "beobachten zufällig 36 Passgiere.`\n",
    "\n",
    "$X_i$ ist die Zufallsvariable der Wartezeit für den $i$-ten Passagier. Es gilt $\\mu=8.2$ und $\\sigma_X=6$\n",
    "\n",
    "Wir betrachten die durchschnittliche Wartezeit $\\overline{X}_{36}$, die annähernd wie folgt verteilt ist:\n",
    "\n",
    "$\\overline{X}_{36}\\sim N(\\mu,\\frac{\\sigma^2_X}{n})=N(8.2,\\frac{6^2}{36})=N(8.2,1)$"
   ]
  },
  {
   "cell_type": "markdown",
   "id": "ebd0b73b-5d90-409d-8d94-73a039b1735c",
   "metadata": {},
   "source": [
    "`a) Berechnen Sie die Wahrscheinlichkeit, dass die durchschnittliche Wartezeit dieser Passagiere weniger als 10 Minuten beträgt.`\n",
    "\n",
    "Gesucht ist: $P(\\overline{X}_{36}\\leq 10)=0.964069680887074$"
   ]
  },
  {
   "cell_type": "code",
   "execution_count": 9,
   "id": "d8fc5f95-55f9-4d0a-b89d-83d9d73b9c14",
   "metadata": {},
   "outputs": [
    {
     "data": {
      "text/html": [
       "0.964069680887074"
      ],
      "text/latex": [
       "0.964069680887074"
      ],
      "text/markdown": [
       "0.964069680887074"
      ],
      "text/plain": [
       "[1] 0.9640697"
      ]
     },
     "metadata": {},
     "output_type": "display_data"
    }
   ],
   "source": [
    "pnorm(q=10, mean=8.2, sd=1)"
   ]
  },
  {
   "cell_type": "markdown",
   "id": "9e991b4b-3817-46a4-9d01-7e70cc09e1a1",
   "metadata": {},
   "source": [
    "`b) Berechnen Sie die Wahrscheinlichkeit, dass die durchschnittliche Wartezeit dieser Passagiere zwischen 5 und 10 Minuten beträgt.`\n",
    "\n",
    "Gesucht ist $P(5\\leq\\overline{X}_{36}\\leq 10)=0.963382542949158$"
   ]
  },
  {
   "cell_type": "code",
   "execution_count": 10,
   "id": "9ec49d72-e5cd-4a43-ba84-0ab52bed86d3",
   "metadata": {},
   "outputs": [
    {
     "data": {
      "text/html": [
       "0.963382542949158"
      ],
      "text/latex": [
       "0.963382542949158"
      ],
      "text/markdown": [
       "0.963382542949158"
      ],
      "text/plain": [
       "[1] 0.9633825"
      ]
     },
     "metadata": {},
     "output_type": "display_data"
    }
   ],
   "source": [
    "pnorm(q=10, mean=8.2, sd=1) - pnorm(q=5, mean=8.2, sd=1)"
   ]
  },
  {
   "cell_type": "markdown",
   "id": "e311aa6d-11af-48a7-be04-569c0056821e",
   "metadata": {},
   "source": [
    "`c) Berechnen Sie die Wahrscheinlichkeit, dass die durchschnittliche Wartezeit dieser Passagiere mehr als 20 Minuten beträgt.`\n",
    "\n",
    "Gesucht ist $P(\\overline{X}_{36}\\geq 20)\\approx 0$"
   ]
  },
  {
   "cell_type": "code",
   "execution_count": 11,
   "id": "0088430a-ab5a-4940-9234-d8e45345841b",
   "metadata": {},
   "outputs": [
    {
     "data": {
      "text/html": [
       "0"
      ],
      "text/latex": [
       "0"
      ],
      "text/markdown": [
       "0"
      ],
      "text/plain": [
       "[1] 0"
      ]
     },
     "metadata": {},
     "output_type": "display_data"
    }
   ],
   "source": [
    "1 - pnorm(q=20, mean=8.2, sd=1)"
   ]
  },
  {
   "cell_type": "markdown",
   "id": "144d250d-9525-4b7c-82e8-3469602fccdb",
   "metadata": {},
   "source": [
    "`d) Alle haben wohl schon die Erfahrung gemacht, dass man länger beim Check-in gewartet hat. Warum ist die Wahrscheinlichkeit von c) dann so klein?`\n",
    "\n",
    "Die Wahrscheinlichkeit, dass man selber mehr als 20 Minuten warten kann, ist\n",
    "natürlich viel grösser.\n",
    "\n",
    "Die Wahrscheinlichkeit in c) beschreibt die Wahrscheinlichkeit, dass 36 zufällig\n",
    "beobachtete Personen durchschnittlich mehr 20 warteten und diese ist fast 0.\n",
    "Dass viele Personen durchschnittlich mehr als 20 Minuten warten müssen, ist klei-\n",
    "ner als die Wahrscheinlichkeit dass eine Person mehr als 20 Minuten warten muss."
   ]
  },
  {
   "cell_type": "markdown",
   "id": "00ffee22-cd51-48e9-8672-3f8e1fd33adc",
   "metadata": {},
   "source": [
    "`e) Gilt hier die i.i.d.-Annahme überhaupt?`\n",
    "\n",
    " Dies ist eine heikle Angelegenheit. Wenn Sie einen grossen Flughafen nehmen und\n",
    "zu jeder Tageszeit zufällig Passagiere an einem beliebigen Abfertigungsschalter\n",
    "auswählen, dann scheint die i.i.d.-Annahme gerechtfertigt zu sein.\n",
    "Wenn Sie einen Abfertigungsschalter nach dem Zufallsprinzip auswählen und 36\n",
    "Passagiere von diesem Schalter auswählen, ist die Annahme nicht gerechtfertigt.\n",
    "Wenn es bereits eine lange Schlange gibt, dann warten alle Passagiere überdurch-\n",
    "schnittlich lange.\n",
    "\n",
    "Dasselbe gilt, wenn Sie eine Tageszeit wählen, zu der der Flughafen ungewöhnlich\n",
    "stark ausgelastet ist. Die Wartezeit für alle Passagiere wäre länger."
   ]
  },
  {
   "cell_type": "markdown",
   "id": "5841238c-d032-492d-a6ff-ca91db1afb80",
   "metadata": {},
   "source": [
    "## 8.2 <a name=\"82\"></a>\n",
    "`Ein Zigarettenhersteller gibt an, dass der Nikotingehalt in einer Zigarette durchschnittlich 2.2 mg mit Standardabweichung 0.3 mg hat. Bei einer Stichprobe von 100 zufällig ausgewählten Zigaretten ist das Stichprobenmittel allerdings 3.1 mg.`\n",
    "\n",
    "`Wie hoch ist die Wahrscheinlichkeit, dass das Stichprobenmittel einen Wert von 3.1 mg\n",
    "oder mehr erreicht, wenn die Aussage des Zigarettenherstellers wahr ist?`\n",
    "\n",
    "`Interpretieren Sie dieses Resultat.`"
   ]
  },
  {
   "cell_type": "markdown",
   "id": "546ab065-d6e2-43c5-bf7d-40e702ad78a5",
   "metadata": {},
   "source": [
    "$X_i$ ist die Zufallsvariable des Nikotingehalts in der $i$-ten Zigarette. Es gilt $\\mu = 2.2$ und $\\sigma_X = 0.3$.\n",
    "\n",
    "Wir betrachten den durchschnittlichen Nikotingehalt $\\overline{X}_{100}$, die annähernd wie folgt verteilt ist:\n",
    "\n",
    "$\\overline{X}_{36}\\sim N(\\mu,\\frac{\\sigma^2_X}{n})=N(2.2,\\frac{0.3^2}{100})=N(2.2,0.0009)$\n",
    "\n",
    "Gesucht ist:\n",
    "\n",
    "$P(\\overline{X}_{100} \\geq 3.1) ≈ 0$"
   ]
  },
  {
   "cell_type": "code",
   "execution_count": 23,
   "id": "fd0434c3-28c5-4e95-8d83-ca7b89559314",
   "metadata": {},
   "outputs": [
    {
     "data": {
      "text/html": [
       "0"
      ],
      "text/latex": [
       "0"
      ],
      "text/markdown": [
       "0"
      ],
      "text/plain": [
       "[1] 0"
      ]
     },
     "metadata": {},
     "output_type": "display_data"
    }
   ],
   "source": [
    "1 - pnorm(q=3.1, mean=2.2, sd=0.3^2/100)"
   ]
  },
  {
   "cell_type": "markdown",
   "id": "16fb1f15-9e48-4499-a6a5-792a1615c494",
   "metadata": {},
   "source": [
    "Diese Wahrscheinlichkeit, dass das Stichprobenmittel 3.1 mg oder grösser ist, ist praktisch 0. Das heisst aber auch, dass unter der Annahme von 2.2 mg ein Stichprobenmittel von 3.1 mg (oder mehr) sehr unwahrscheinlich ist. So können wir vermuten, dass etwas mit der Angabe von 2.2 mg nicht stimmt."
   ]
  },
  {
   "cell_type": "markdown",
   "id": "c9e244d7-9e1d-4948-8153-82dbe1a3f07c",
   "metadata": {},
   "source": [
    "## 8.3 <a name=\"83\"></a>"
   ]
  },
  {
   "cell_type": "markdown",
   "id": "05a83560-8e69-4fdd-a5f0-08ef7ebdc7c1",
   "metadata": {},
   "source": [
    "`Ein Dozent weiss aus Erfahrung, dass bei einer Prüfung die Punktezahlen durchschnittlich bei 77 Punkte mit einer Standardabweichung von 15 Punkten liegen. In diesem Semester unterrichtet der Dozent zwei Kurse; der eine hat 25, der andere 64 TeilnehmerInnen.`\n",
    "\n",
    "`a) Wie gross ist näherungsweise die Wahrscheinlichkeit, dass das durchschnittliche Prüfungsergebnis im dem Kurs mit 25 TeilnehmerInnen zwischen 72 und 82 Punkten liegt?`"
   ]
  },
  {
   "cell_type": "markdown",
   "id": "969ffa50-7c65-46cf-a90e-b444b930276d",
   "metadata": {},
   "source": [
    "$X_i$ ist die Zufallsvariable für die Punktezahl der $i$-ten StudentInnen. Es gilt $\\mu=77$ und $\\sigma_X=15$\n",
    "\n",
    "Durchschnittliche Punktezahl $\\overline{X}_{25}$ die annähernd wie folgt verteilt ist:\n",
    "\n",
    "$\\overline{X}_{25}\\sim N(\\mu,\\frac{\\sigma^2_X}{n})=N(77,\\frac{15^2}{25})=N(77,9)$\n",
    "\n",
    "Gesucht ist $P(72\\leq\\overline{X}_{25}\\leq 82)=0.904419295454371$"
   ]
  },
  {
   "cell_type": "code",
   "execution_count": 24,
   "id": "ab6ba422-fcd0-4ff0-86e0-7a93c4777db4",
   "metadata": {},
   "outputs": [
    {
     "data": {
      "text/html": [
       "0.904419295454371"
      ],
      "text/latex": [
       "0.904419295454371"
      ],
      "text/markdown": [
       "0.904419295454371"
      ],
      "text/plain": [
       "[1] 0.9044193"
      ]
     },
     "metadata": {},
     "output_type": "display_data"
    }
   ],
   "source": [
    "pnorm(q = 82, mean = 77, sd = 3) - pnorm(q = 72, 77, 3)"
   ]
  },
  {
   "cell_type": "markdown",
   "id": "7cfcd7ae-75dc-42e0-8a88-ac8a6ee7cbcf",
   "metadata": {},
   "source": [
    "`b) Wiederholen Sie die Rechnung aus Teil a) für den Kurs mit 64 TeilnehmerInnen. Vergleichen Sie die beiden Werte und erklären Sie den Unterschied.`"
   ]
  },
  {
   "cell_type": "markdown",
   "id": "075f4ea4-7caf-4ce7-bebe-ba5735af5aab",
   "metadata": {},
   "source": [
    "$X_i$ ist die Zufallsvariable für die Punktezahl der $i$-ten StudentInnen. Es gilt $\\mu=77$ und $\\sigma_X=15$\n",
    "\n",
    "Durchschnittliche Punktezahl $\\overline{X}_{64}$ die annähernd wie folgt verteilt ist:\n",
    "\n",
    "$\\overline{X}_{64}\\sim N(\\mu,\\frac{\\sigma^2_X}{n})=N(77,\\frac{15^2}{64})=N(77,225/64)$\n",
    "\n",
    "Gesucht ist $P(72\\leq\\overline{X}_{64}\\leq 82)=0.904419295454371$"
   ]
  },
  {
   "cell_type": "code",
   "execution_count": 25,
   "id": "b65f9f1b-518c-4563-9c61-dbd7e56d0d30",
   "metadata": {},
   "outputs": [
    {
     "data": {
      "text/html": [
       "0.99233923886482"
      ],
      "text/latex": [
       "0.99233923886482"
      ],
      "text/markdown": [
       "0.99233923886482"
      ],
      "text/plain": [
       "[1] 0.9923392"
      ]
     },
     "metadata": {},
     "output_type": "display_data"
    }
   ],
   "source": [
    "pnorm(q = 82, mean = 77, sd = sqrt(225/64)) - pnorm(q = 72, 77, sqrt(225/64))"
   ]
  },
  {
   "cell_type": "markdown",
   "id": "dd2f0cf5-6139-41f0-a32a-f2668c5400fa",
   "metadata": {},
   "source": [
    "Der 2. Wert ist grösser als der erste. Der Grund ist, dass im 2. Fall die Standardabwei-\n",
    "chung kleiner ist und sich somit mehr Werte in diesem Bereich befinden."
   ]
  },
  {
   "cell_type": "code",
   "execution_count": null,
   "id": "ef972110-c85a-46c6-a87d-77595ed61c9b",
   "metadata": {},
   "outputs": [],
   "source": []
  }
 ],
 "metadata": {
  "kernelspec": {
   "display_name": "R",
   "language": "R",
   "name": "ir"
  },
  "language_info": {
   "codemirror_mode": "r",
   "file_extension": ".r",
   "mimetype": "text/x-r-source",
   "name": "R",
   "pygments_lexer": "r",
   "version": "4.1.1"
  }
 },
 "nbformat": 4,
 "nbformat_minor": 5
}

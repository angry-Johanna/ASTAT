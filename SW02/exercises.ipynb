{
 "cells": [
  {
   "cell_type": "markdown",
   "id": "4c09a8f5-c707-4da4-b88f-5f3efcd4b8ee",
   "metadata": {},
   "source": [
    "# Exercises"
   ]
  },
  {
   "cell_type": "markdown",
   "id": "677a5ecd-da9b-4994-98c2-231246c8b46f",
   "metadata": {
    "tags": []
   },
   "source": [
    "## 2.1"
   ]
  },
  {
   "cell_type": "code",
   "execution_count": 15,
   "id": "db62f58f-d4ad-42c5-9bbc-980e25ac5b46",
   "metadata": {},
   "outputs": [],
   "source": [
    "winner <- c(183, 191, 185, 185, 182, 182, 188, 188, 188, 185, 185, 177,\n",
    "182, 182, 193, 183, 179, 179, 175)\n",
    "opponent <- c(191, 165, 187, 175, 193, 185, 187, 188, 173, 180, 177, 183,\n",
    "185, 180, 180, 182, 178, 178, 173)"
   ]
  },
  {
   "cell_type": "code",
   "execution_count": 16,
   "id": "56545aec-fe58-47dc-b4c4-d0c2e2c073a9",
   "metadata": {},
   "outputs": [
    {
     "data": {
      "text/html": [
       "TRUE"
      ],
      "text/latex": [
       "TRUE"
      ],
      "text/markdown": [
       "TRUE"
      ],
      "text/plain": [
       "[1] TRUE"
      ]
     },
     "metadata": {},
     "output_type": "display_data"
    }
   ],
   "source": [
    "length(winner) == length(opponent)"
   ]
  },
  {
   "cell_type": "code",
   "execution_count": 17,
   "id": "de2de9a9-27e1-4275-ba63-3153f5bd3e45",
   "metadata": {},
   "outputs": [
    {
     "data": {
      "text/html": [
       "<style>\n",
       ".list-inline {list-style: none; margin:0; padding: 0}\n",
       ".list-inline>li {display: inline-block}\n",
       ".list-inline>li:not(:last-child)::after {content: \"\\00b7\"; padding: 0 .5ex}\n",
       "</style>\n",
       "<ol class=list-inline><li>182</li><li>188</li><li>188</li><li>188</li><li>185</li></ol>\n"
      ],
      "text/latex": [
       "\\begin{enumerate*}\n",
       "\\item 182\n",
       "\\item 188\n",
       "\\item 188\n",
       "\\item 188\n",
       "\\item 185\n",
       "\\end{enumerate*}\n"
      ],
      "text/markdown": [
       "1. 182\n",
       "2. 188\n",
       "3. 188\n",
       "4. 188\n",
       "5. 185\n",
       "\n",
       "\n"
      ],
      "text/plain": [
       "[1] 182 188 188 188 185"
      ]
     },
     "metadata": {},
     "output_type": "display_data"
    }
   ],
   "source": [
    "winner[6:10]"
   ]
  },
  {
   "cell_type": "code",
   "execution_count": 18,
   "id": "be086aa2-2238-4655-9198-9e46d6bd79da",
   "metadata": {},
   "outputs": [
    {
     "data": {
      "text/html": [
       "<style>\n",
       ".list-inline {list-style: none; margin:0; padding: 0}\n",
       ".list-inline>li {display: inline-block}\n",
       ".list-inline>li:not(:last-child)::after {content: \"\\00b7\"; padding: 0 .5ex}\n",
       "</style>\n",
       "<ol class=list-inline><li>185</li><li>182</li><li>185</li><li>185</li><li>177</li></ol>\n"
      ],
      "text/latex": [
       "\\begin{enumerate*}\n",
       "\\item 185\n",
       "\\item 182\n",
       "\\item 185\n",
       "\\item 185\n",
       "\\item 177\n",
       "\\end{enumerate*}\n"
      ],
      "text/markdown": [
       "1. 185\n",
       "2. 182\n",
       "3. 185\n",
       "4. 185\n",
       "5. 177\n",
       "\n",
       "\n"
      ],
      "text/plain": [
       "[1] 185 182 185 185 177"
      ]
     },
     "metadata": {},
     "output_type": "display_data"
    }
   ],
   "source": [
    "winner[c(3,5,10:12)]"
   ]
  },
  {
   "cell_type": "code",
   "execution_count": 19,
   "id": "b5475427-f6f7-45b0-aa43-a066d15f51f2",
   "metadata": {},
   "outputs": [
    {
     "data": {
      "text/html": [
       "<style>\n",
       ".list-inline {list-style: none; margin:0; padding: 0}\n",
       ".list-inline>li {display: inline-block}\n",
       ".list-inline>li:not(:last-child)::after {content: \"\\00b7\"; padding: 0 .5ex}\n",
       "</style>\n",
       "<ol class=list-inline><li>188</li><li>188</li></ol>\n"
      ],
      "text/latex": [
       "\\begin{enumerate*}\n",
       "\\item 188\n",
       "\\item 188\n",
       "\\end{enumerate*}\n"
      ],
      "text/markdown": [
       "1. 188\n",
       "2. 188\n",
       "\n",
       "\n"
      ],
      "text/plain": [
       "[1] 188 188"
      ]
     },
     "metadata": {},
     "output_type": "display_data"
    },
    {
     "data": {
      "text/html": [
       "<style>\n",
       ".list-inline {list-style: none; margin:0; padding: 0}\n",
       ".list-inline>li {display: inline-block}\n",
       ".list-inline>li:not(:last-child)::after {content: \"\\00b7\"; padding: 0 .5ex}\n",
       "</style>\n",
       "<ol class=list-inline><li>189</li><li>189</li></ol>\n"
      ],
      "text/latex": [
       "\\begin{enumerate*}\n",
       "\\item 189\n",
       "\\item 189\n",
       "\\end{enumerate*}\n"
      ],
      "text/markdown": [
       "1. 189\n",
       "2. 189\n",
       "\n",
       "\n"
      ],
      "text/plain": [
       "[1] 189 189"
      ]
     },
     "metadata": {},
     "output_type": "display_data"
    }
   ],
   "source": [
    "winner[7:8]\n",
    "winner[7:8] <- 189\n",
    "winner[7:8]"
   ]
  },
  {
   "cell_type": "code",
   "execution_count": 20,
   "id": "7c27d8f6-2b1e-4847-98cc-9b1439d96f6d",
   "metadata": {},
   "outputs": [
    {
     "data": {
      "text/html": [
       "183.894736842105"
      ],
      "text/latex": [
       "183.894736842105"
      ],
      "text/markdown": [
       "183.894736842105"
      ],
      "text/plain": [
       "[1] 183.8947"
      ]
     },
     "metadata": {},
     "output_type": "display_data"
    },
    {
     "data": {
      "text/html": [
       "181.052631578947"
      ],
      "text/latex": [
       "181.052631578947"
      ],
      "text/markdown": [
       "181.052631578947"
      ],
      "text/plain": [
       "[1] 181.0526"
      ]
     },
     "metadata": {},
     "output_type": "display_data"
    }
   ],
   "source": [
    "mean(winner)\n",
    "mean(opponent)"
   ]
  },
  {
   "cell_type": "markdown",
   "id": "18e09114-d082-4074-8d14-f6e0091d0b0a",
   "metadata": {},
   "source": [
    "Durchschnittlicher Grössenunterschied:"
   ]
  },
  {
   "cell_type": "code",
   "execution_count": 22,
   "id": "804773da-d344-4fa2-8ccb-8b4d88bbb3c7",
   "metadata": {},
   "outputs": [
    {
     "data": {
      "text/html": [
       "<style>\n",
       ".list-inline {list-style: none; margin:0; padding: 0}\n",
       ".list-inline>li {display: inline-block}\n",
       ".list-inline>li:not(:last-child)::after {content: \"\\00b7\"; padding: 0 .5ex}\n",
       "</style>\n",
       "<ol class=list-inline><li>-8</li><li>26</li><li>-2</li><li>10</li><li>-11</li><li>-3</li><li>2</li><li>1</li><li>15</li><li>5</li><li>8</li><li>-6</li><li>-3</li><li>2</li><li>13</li><li>1</li><li>1</li><li>1</li><li>2</li></ol>\n"
      ],
      "text/latex": [
       "\\begin{enumerate*}\n",
       "\\item -8\n",
       "\\item 26\n",
       "\\item -2\n",
       "\\item 10\n",
       "\\item -11\n",
       "\\item -3\n",
       "\\item 2\n",
       "\\item 1\n",
       "\\item 15\n",
       "\\item 5\n",
       "\\item 8\n",
       "\\item -6\n",
       "\\item -3\n",
       "\\item 2\n",
       "\\item 13\n",
       "\\item 1\n",
       "\\item 1\n",
       "\\item 1\n",
       "\\item 2\n",
       "\\end{enumerate*}\n"
      ],
      "text/markdown": [
       "1. -8\n",
       "2. 26\n",
       "3. -2\n",
       "4. 10\n",
       "5. -11\n",
       "6. -3\n",
       "7. 2\n",
       "8. 1\n",
       "9. 15\n",
       "10. 5\n",
       "11. 8\n",
       "12. -6\n",
       "13. -3\n",
       "14. 2\n",
       "15. 13\n",
       "16. 1\n",
       "17. 1\n",
       "18. 1\n",
       "19. 2\n",
       "\n",
       "\n"
      ],
      "text/plain": [
       " [1]  -8  26  -2  10 -11  -3   2   1  15   5   8  -6  -3   2  13   1   1   1   2"
      ]
     },
     "metadata": {},
     "output_type": "display_data"
    },
    {
     "data": {
      "text/html": [
       "2.84210526315789"
      ],
      "text/latex": [
       "2.84210526315789"
      ],
      "text/markdown": [
       "2.84210526315789"
      ],
      "text/plain": [
       "[1] 2.842105"
      ]
     },
     "metadata": {},
     "output_type": "display_data"
    }
   ],
   "source": [
    "diff <- winner - opponent\n",
    "diff\n",
    "mean(diff)"
   ]
  },
  {
   "cell_type": "markdown",
   "id": "bd69e2f6-4bec-4e22-b416-ae791d5d134c",
   "metadata": {},
   "source": [
    "Varianz s2 und die Standardabweichung s des Vektors winner:"
   ]
  },
  {
   "cell_type": "code",
   "execution_count": 24,
   "id": "a5076c56-7175-45f5-88a7-93c2279a4252",
   "metadata": {},
   "outputs": [
    {
     "data": {
      "text/html": [
       "22.0994152046784"
      ],
      "text/latex": [
       "22.0994152046784"
      ],
      "text/markdown": [
       "22.0994152046784"
      ],
      "text/plain": [
       "[1] 22.09942"
      ]
     },
     "metadata": {},
     "output_type": "display_data"
    },
    {
     "data": {
      "text/html": [
       "4.7010015108143"
      ],
      "text/latex": [
       "4.7010015108143"
      ],
      "text/markdown": [
       "4.7010015108143"
      ],
      "text/plain": [
       "[1] 4.701002"
      ]
     },
     "metadata": {},
     "output_type": "display_data"
    }
   ],
   "source": [
    "var(winner)\n",
    "sd(winner)"
   ]
  },
  {
   "cell_type": "markdown",
   "id": "4202ce36-e1c6-4e48-b81f-76a33c078e0e",
   "metadata": {},
   "source": [
    "Ohne Funktionen dafür zu verwenden:"
   ]
  },
  {
   "cell_type": "code",
   "execution_count": 25,
   "id": "b687859e-0144-47c3-b4bb-538b35d04de0",
   "metadata": {},
   "outputs": [
    {
     "data": {
      "text/html": [
       "22.0994152046784"
      ],
      "text/latex": [
       "22.0994152046784"
      ],
      "text/markdown": [
       "22.0994152046784"
      ],
      "text/plain": [
       "[1] 22.09942"
      ]
     },
     "metadata": {},
     "output_type": "display_data"
    },
    {
     "data": {
      "text/html": [
       "4.7010015108143"
      ],
      "text/latex": [
       "4.7010015108143"
      ],
      "text/markdown": [
       "4.7010015108143"
      ],
      "text/plain": [
       "[1] 4.701002"
      ]
     },
     "metadata": {},
     "output_type": "display_data"
    }
   ],
   "source": [
    "winner.var <- sum((winner - mean(winner))^2) / (length(winner)-1)\n",
    "winner.var\n",
    "\n",
    "winner.sd <- sqrt(winner.var)\n",
    "winner.sd"
   ]
  },
  {
   "cell_type": "markdown",
   "id": "97ffda46-740d-48a2-a8c7-1127b4ae2854",
   "metadata": {},
   "source": [
    "## 2.2"
   ]
  },
  {
   "cell_type": "code",
   "execution_count": 32,
   "id": "67a1fc55-3d75-4324-b68c-c62d75de32d5",
   "metadata": {},
   "outputs": [
    {
     "data": {
      "text/html": [
       "<style>\n",
       ".list-inline {list-style: none; margin:0; padding: 0}\n",
       ".list-inline>li {display: inline-block}\n",
       ".list-inline>li:not(:last-child)::after {content: \"\\00b7\"; padding: 0 .5ex}\n",
       "</style>\n",
       "<ol class=list-inline><li>4.2</li><li>2.3</li><li>5.6</li><li>4.5</li><li>4.8</li><li>3.9</li><li>5.9</li><li>2.4</li><li>5.9</li><li>6</li><li>4</li><li>3.7</li><li>5</li><li>5.2</li><li>4.5</li><li>3.6</li><li>5</li><li>6</li><li>2.8</li><li>3.3</li><li>5.5</li><li>4.2</li><li>4.9</li><li>5.1</li></ol>\n"
      ],
      "text/latex": [
       "\\begin{enumerate*}\n",
       "\\item 4.2\n",
       "\\item 2.3\n",
       "\\item 5.6\n",
       "\\item 4.5\n",
       "\\item 4.8\n",
       "\\item 3.9\n",
       "\\item 5.9\n",
       "\\item 2.4\n",
       "\\item 5.9\n",
       "\\item 6\n",
       "\\item 4\n",
       "\\item 3.7\n",
       "\\item 5\n",
       "\\item 5.2\n",
       "\\item 4.5\n",
       "\\item 3.6\n",
       "\\item 5\n",
       "\\item 6\n",
       "\\item 2.8\n",
       "\\item 3.3\n",
       "\\item 5.5\n",
       "\\item 4.2\n",
       "\\item 4.9\n",
       "\\item 5.1\n",
       "\\end{enumerate*}\n"
      ],
      "text/markdown": [
       "1. 4.2\n",
       "2. 2.3\n",
       "3. 5.6\n",
       "4. 4.5\n",
       "5. 4.8\n",
       "6. 3.9\n",
       "7. 5.9\n",
       "8. 2.4\n",
       "9. 5.9\n",
       "10. 6\n",
       "11. 4\n",
       "12. 3.7\n",
       "13. 5\n",
       "14. 5.2\n",
       "15. 4.5\n",
       "16. 3.6\n",
       "17. 5\n",
       "18. 6\n",
       "19. 2.8\n",
       "20. 3.3\n",
       "21. 5.5\n",
       "22. 4.2\n",
       "23. 4.9\n",
       "24. 5.1\n",
       "\n",
       "\n"
      ],
      "text/plain": [
       " [1] 4.2 2.3 5.6 4.5 4.8 3.9 5.9 2.4 5.9 6.0 4.0 3.7 5.0 5.2 4.5 3.6 5.0 6.0 2.8\n",
       "[20] 3.3 5.5 4.2 4.9 5.1"
      ]
     },
     "metadata": {},
     "output_type": "display_data"
    }
   ],
   "source": [
    "marks <- c(4.2, 2.3, 5.6, 4.5, 4.8, 3.9, 5.9,\n",
    "           2.4, 5.9, 6, 4, 3.7, 5, 5.2, 4.5,\n",
    "           3.6, 5, 6, 2.8, 3.3, 5.5, 4.2, 4.9, 5.1)\n",
    "marks"
   ]
  },
  {
   "cell_type": "code",
   "execution_count": 33,
   "id": "920d48a2-b3c8-4ac9-8aeb-2fae602064bb",
   "metadata": {},
   "outputs": [
    {
     "data": {
      "text/html": [
       "4.65"
      ],
      "text/latex": [
       "4.65"
      ],
      "text/markdown": [
       "4.65"
      ],
      "text/plain": [
       "[1] 4.65"
      ]
     },
     "metadata": {},
     "output_type": "display_data"
    },
    {
     "data": {
      "text/html": [
       "4.5125"
      ],
      "text/latex": [
       "4.5125"
      ],
      "text/markdown": [
       "4.5125"
      ],
      "text/plain": [
       "[1] 4.5125"
      ]
     },
     "metadata": {},
     "output_type": "display_data"
    }
   ],
   "source": [
    "median(marks)\n",
    "mean(marks)"
   ]
  },
  {
   "cell_type": "markdown",
   "id": "a4ca1425-abb8-4ca2-a220-44a6dae557c6",
   "metadata": {},
   "source": [
    "$\\sum^a_b$ 😊😊"
   ]
  },
  {
   "cell_type": "code",
   "execution_count": 34,
   "id": "50183a2a-3667-40e7-bc22-3436d9983d4f",
   "metadata": {},
   "outputs": [
    {
     "data": {
      "text/html": [
       "<style>\n",
       ".list-inline {list-style: none; margin:0; padding: 0}\n",
       ".list-inline>li {display: inline-block}\n",
       ".list-inline>li:not(:last-child)::after {content: \"\\00b7\"; padding: 0 .5ex}\n",
       "</style>\n",
       "<ol class=list-inline><li>2.3</li><li>2.4</li><li>2.8</li><li>3.3</li><li>3.6</li><li>3.7</li><li>3.9</li><li>4</li><li>4.2</li><li>4.2</li><li>4.5</li><li>4.5</li><li>4.8</li><li>4.9</li><li>5</li><li>5</li><li>5.1</li><li>5.2</li><li>5.5</li><li>5.6</li><li>5.9</li><li>5.9</li><li>6</li><li>6</li></ol>\n"
      ],
      "text/latex": [
       "\\begin{enumerate*}\n",
       "\\item 2.3\n",
       "\\item 2.4\n",
       "\\item 2.8\n",
       "\\item 3.3\n",
       "\\item 3.6\n",
       "\\item 3.7\n",
       "\\item 3.9\n",
       "\\item 4\n",
       "\\item 4.2\n",
       "\\item 4.2\n",
       "\\item 4.5\n",
       "\\item 4.5\n",
       "\\item 4.8\n",
       "\\item 4.9\n",
       "\\item 5\n",
       "\\item 5\n",
       "\\item 5.1\n",
       "\\item 5.2\n",
       "\\item 5.5\n",
       "\\item 5.6\n",
       "\\item 5.9\n",
       "\\item 5.9\n",
       "\\item 6\n",
       "\\item 6\n",
       "\\end{enumerate*}\n"
      ],
      "text/markdown": [
       "1. 2.3\n",
       "2. 2.4\n",
       "3. 2.8\n",
       "4. 3.3\n",
       "5. 3.6\n",
       "6. 3.7\n",
       "7. 3.9\n",
       "8. 4\n",
       "9. 4.2\n",
       "10. 4.2\n",
       "11. 4.5\n",
       "12. 4.5\n",
       "13. 4.8\n",
       "14. 4.9\n",
       "15. 5\n",
       "16. 5\n",
       "17. 5.1\n",
       "18. 5.2\n",
       "19. 5.5\n",
       "20. 5.6\n",
       "21. 5.9\n",
       "22. 5.9\n",
       "23. 6\n",
       "24. 6\n",
       "\n",
       "\n"
      ],
      "text/plain": [
       " [1] 2.3 2.4 2.8 3.3 3.6 3.7 3.9 4.0 4.2 4.2 4.5 4.5 4.8 4.9 5.0 5.0 5.1 5.2 5.5\n",
       "[20] 5.6 5.9 5.9 6.0 6.0"
      ]
     },
     "metadata": {},
     "output_type": "display_data"
    }
   ],
   "source": [
    "sort(marks)"
   ]
  },
  {
   "cell_type": "code",
   "execution_count": 35,
   "id": "ea332fff-b944-4615-a535-5658880ec81d",
   "metadata": {},
   "outputs": [
    {
     "data": {
      "text/html": [
       "4.65"
      ],
      "text/latex": [
       "4.65"
      ],
      "text/markdown": [
       "4.65"
      ],
      "text/plain": [
       "[1] 4.65"
      ]
     },
     "metadata": {},
     "output_type": "display_data"
    },
    {
     "data": {
      "text/html": [
       "4.1"
      ],
      "text/latex": [
       "4.1"
      ],
      "text/markdown": [
       "4.1"
      ],
      "text/plain": [
       "[1] 4.1"
      ]
     },
     "metadata": {},
     "output_type": "display_data"
    }
   ],
   "source": [
    "marks_2 <- c(1,2.3,5.6,4.5,4.8,3.9,5.9,\n",
    "2.4,5.9,6,4,3.7,5,5.2,1,3.6,5,6,\n",
    "2.8,3.3,5.5,1,4.9,5.1)\n",
    "median(marks_2)\n",
    "mean(marks_2)"
   ]
  },
  {
   "cell_type": "markdown",
   "id": "13204707-698f-4ac8-a55f-65add8404ac9",
   "metadata": {},
   "source": [
    "Boxplot "
   ]
  },
  {
   "cell_type": "code",
   "execution_count": 38,
   "id": "2af737b8-0f80-4df3-884f-c3d037766d3f",
   "metadata": {},
   "outputs": [
    {
     "data": {
      "image/png": "[encoded data removed]",
      "text/plain": [
       "Plot with title \"Boxplot\""
      ]
     },
     "metadata": {
      "image/png": {
       "height": 420,
       "width": 420
      }
     },
     "output_type": "display_data"
    }
   ],
   "source": [
    "boxplot(marks, marks_2,\n",
    "main = \"Boxplot\",\n",
    "col = c(\"orange\", \"lightblue\"))"
   ]
  },
  {
   "cell_type": "markdown",
   "id": "6316c1c2-2d92-42d0-9dc4-0f9ed6c84ba8",
   "metadata": {},
   "source": [
    "## 2.3"
   ]
  },
  {
   "cell_type": "code",
   "execution_count": 40,
   "id": "1ff7cbfa-c8d1-4120-a34b-25dc2754dda4",
   "metadata": {},
   "outputs": [],
   "source": [
    "wd <- getwd()\n",
    "setwd(wd)\n",
    "data <- read.csv(\"mannfrau.csv\")"
   ]
  },
  {
   "cell_type": "code",
   "execution_count": 41,
   "id": "433b381e-1ce7-418a-8991-7b4675493ee7",
   "metadata": {},
   "outputs": [
    {
     "data": {
      "text/html": [
       "<table class=\"dataframe\">\n",
       "<caption>A data.frame: 170 × 4</caption>\n",
       "<thead>\n",
       "\t<tr><th scope=col>alter.mann</th><th scope=col>groesse.mann</th><th scope=col>alter.frau</th><th scope=col>groesse.frau</th></tr>\n",
       "\t<tr><th scope=col>&lt;int&gt;</th><th scope=col>&lt;int&gt;</th><th scope=col>&lt;int&gt;</th><th scope=col>&lt;int&gt;</th></tr>\n",
       "</thead>\n",
       "<tbody>\n",
       "\t<tr><td>49</td><td>180</td><td>43</td><td>159</td></tr>\n",
       "\t<tr><td>25</td><td>184</td><td>28</td><td>156</td></tr>\n",
       "\t<tr><td>40</td><td>165</td><td>30</td><td>162</td></tr>\n",
       "\t<tr><td>52</td><td>177</td><td>57</td><td>154</td></tr>\n",
       "\t<tr><td>58</td><td>161</td><td>52</td><td>142</td></tr>\n",
       "\t<tr><td>32</td><td>169</td><td>27</td><td>166</td></tr>\n",
       "\t<tr><td>43</td><td>173</td><td>52</td><td>161</td></tr>\n",
       "\t<tr><td>47</td><td>174</td><td>43</td><td>158</td></tr>\n",
       "\t<tr><td>31</td><td>168</td><td>23</td><td>161</td></tr>\n",
       "\t<tr><td>26</td><td>173</td><td>25</td><td>159</td></tr>\n",
       "\t<tr><td>40</td><td>171</td><td>39</td><td>161</td></tr>\n",
       "\t<tr><td>35</td><td>173</td><td>32</td><td>170</td></tr>\n",
       "\t<tr><td>35</td><td>179</td><td>35</td><td>168</td></tr>\n",
       "\t<tr><td>35</td><td>178</td><td>33</td><td>168</td></tr>\n",
       "\t<tr><td>47</td><td>175</td><td>43</td><td>163</td></tr>\n",
       "\t<tr><td>38</td><td>172</td><td>35</td><td>157</td></tr>\n",
       "\t<tr><td>33</td><td>172</td><td>32</td><td>172</td></tr>\n",
       "\t<tr><td>32</td><td>181</td><td>30</td><td>174</td></tr>\n",
       "\t<tr><td>38</td><td>172</td><td>40</td><td>160</td></tr>\n",
       "\t<tr><td>29</td><td>168</td><td>29</td><td>160</td></tr>\n",
       "\t<tr><td>59</td><td>158</td><td>55</td><td>155</td></tr>\n",
       "\t<tr><td>26</td><td>168</td><td>25</td><td>154</td></tr>\n",
       "\t<tr><td>50</td><td>167</td><td>45</td><td>164</td></tr>\n",
       "\t<tr><td>49</td><td>172</td><td>44</td><td>164</td></tr>\n",
       "\t<tr><td>42</td><td>163</td><td>40</td><td>163</td></tr>\n",
       "\t<tr><td>33</td><td>185</td><td>31</td><td>156</td></tr>\n",
       "\t<tr><td>27</td><td>170</td><td>25</td><td>158</td></tr>\n",
       "\t<tr><td>57</td><td>176</td><td>51</td><td>157</td></tr>\n",
       "\t<tr><td>34</td><td>170</td><td>31</td><td>159</td></tr>\n",
       "\t<tr><td>28</td><td>172</td><td>25</td><td>165</td></tr>\n",
       "\t<tr><td>...</td><td>...</td><td>...</td><td>...</td></tr>\n",
       "\t<tr><td>47</td><td>165</td><td>46</td><td>167</td></tr>\n",
       "\t<tr><td>44</td><td>179</td><td>40</td><td>162</td></tr>\n",
       "\t<tr><td>52</td><td>179</td><td>53</td><td>157</td></tr>\n",
       "\t<tr><td>45</td><td>182</td><td>40</td><td>166</td></tr>\n",
       "\t<tr><td>20</td><td>179</td><td>22</td><td>155</td></tr>\n",
       "\t<tr><td>60</td><td>172</td><td>60</td><td>159</td></tr>\n",
       "\t<tr><td>36</td><td>168</td><td>32</td><td>162</td></tr>\n",
       "\t<tr><td>25</td><td>176</td><td>24</td><td>156</td></tr>\n",
       "\t<tr><td>25</td><td>174</td><td>28</td><td>167</td></tr>\n",
       "\t<tr><td>35</td><td>171</td><td>40</td><td>165</td></tr>\n",
       "\t<tr><td>49</td><td>177</td><td>48</td><td>147</td></tr>\n",
       "\t<tr><td>33</td><td>176</td><td>33</td><td>158</td></tr>\n",
       "\t<tr><td>50</td><td>172</td><td>49</td><td>167</td></tr>\n",
       "\t<tr><td>63</td><td>164</td><td>64</td><td>152</td></tr>\n",
       "\t<tr><td>57</td><td>169</td><td>55</td><td>162</td></tr>\n",
       "\t<tr><td>41</td><td>185</td><td>41</td><td>171</td></tr>\n",
       "\t<tr><td>38</td><td>169</td><td>38</td><td>153</td></tr>\n",
       "\t<tr><td>30</td><td>188</td><td>31</td><td>163</td></tr>\n",
       "\t<tr><td>52</td><td>183</td><td>52</td><td>172</td></tr>\n",
       "\t<tr><td>51</td><td>173</td><td>43</td><td>157</td></tr>\n",
       "\t<tr><td>46</td><td>164</td><td>51</td><td>156</td></tr>\n",
       "\t<tr><td>50</td><td>172</td><td>47</td><td>165</td></tr>\n",
       "\t<tr><td>52</td><td>171</td><td>32</td><td>159</td></tr>\n",
       "\t<tr><td>30</td><td>172</td><td>33</td><td>159</td></tr>\n",
       "\t<tr><td>20</td><td>178</td><td>18</td><td>159</td></tr>\n",
       "\t<tr><td>51</td><td>167</td><td>45</td><td>155</td></tr>\n",
       "\t<tr><td>64</td><td>164</td><td>64</td><td>157</td></tr>\n",
       "\t<tr><td>44</td><td>174</td><td>43</td><td>156</td></tr>\n",
       "\t<tr><td>40</td><td>182</td><td>39</td><td>163</td></tr>\n",
       "\t<tr><td>59</td><td>172</td><td>56</td><td>153</td></tr>\n",
       "</tbody>\n",
       "</table>\n"
      ],
      "text/latex": [
       "A data.frame: 170 × 4\n",
       "\\begin{tabular}{llll}\n",
       " alter.mann & groesse.mann & alter.frau & groesse.frau\\\\\n",
       " <int> & <int> & <int> & <int>\\\\\n",
       "\\hline\n",
       "\t 49 & 180 & 43 & 159\\\\\n",
       "\t 25 & 184 & 28 & 156\\\\\n",
       "\t 40 & 165 & 30 & 162\\\\\n",
       "\t 52 & 177 & 57 & 154\\\\\n",
       "\t 58 & 161 & 52 & 142\\\\\n",
       "\t 32 & 169 & 27 & 166\\\\\n",
       "\t 43 & 173 & 52 & 161\\\\\n",
       "\t 47 & 174 & 43 & 158\\\\\n",
       "\t 31 & 168 & 23 & 161\\\\\n",
       "\t 26 & 173 & 25 & 159\\\\\n",
       "\t 40 & 171 & 39 & 161\\\\\n",
       "\t 35 & 173 & 32 & 170\\\\\n",
       "\t 35 & 179 & 35 & 168\\\\\n",
       "\t 35 & 178 & 33 & 168\\\\\n",
       "\t 47 & 175 & 43 & 163\\\\\n",
       "\t 38 & 172 & 35 & 157\\\\\n",
       "\t 33 & 172 & 32 & 172\\\\\n",
       "\t 32 & 181 & 30 & 174\\\\\n",
       "\t 38 & 172 & 40 & 160\\\\\n",
       "\t 29 & 168 & 29 & 160\\\\\n",
       "\t 59 & 158 & 55 & 155\\\\\n",
       "\t 26 & 168 & 25 & 154\\\\\n",
       "\t 50 & 167 & 45 & 164\\\\\n",
       "\t 49 & 172 & 44 & 164\\\\\n",
       "\t 42 & 163 & 40 & 163\\\\\n",
       "\t 33 & 185 & 31 & 156\\\\\n",
       "\t 27 & 170 & 25 & 158\\\\\n",
       "\t 57 & 176 & 51 & 157\\\\\n",
       "\t 34 & 170 & 31 & 159\\\\\n",
       "\t 28 & 172 & 25 & 165\\\\\n",
       "\t ... & ... & ... & ...\\\\\n",
       "\t 47 & 165 & 46 & 167\\\\\n",
       "\t 44 & 179 & 40 & 162\\\\\n",
       "\t 52 & 179 & 53 & 157\\\\\n",
       "\t 45 & 182 & 40 & 166\\\\\n",
       "\t 20 & 179 & 22 & 155\\\\\n",
       "\t 60 & 172 & 60 & 159\\\\\n",
       "\t 36 & 168 & 32 & 162\\\\\n",
       "\t 25 & 176 & 24 & 156\\\\\n",
       "\t 25 & 174 & 28 & 167\\\\\n",
       "\t 35 & 171 & 40 & 165\\\\\n",
       "\t 49 & 177 & 48 & 147\\\\\n",
       "\t 33 & 176 & 33 & 158\\\\\n",
       "\t 50 & 172 & 49 & 167\\\\\n",
       "\t 63 & 164 & 64 & 152\\\\\n",
       "\t 57 & 169 & 55 & 162\\\\\n",
       "\t 41 & 185 & 41 & 171\\\\\n",
       "\t 38 & 169 & 38 & 153\\\\\n",
       "\t 30 & 188 & 31 & 163\\\\\n",
       "\t 52 & 183 & 52 & 172\\\\\n",
       "\t 51 & 173 & 43 & 157\\\\\n",
       "\t 46 & 164 & 51 & 156\\\\\n",
       "\t 50 & 172 & 47 & 165\\\\\n",
       "\t 52 & 171 & 32 & 159\\\\\n",
       "\t 30 & 172 & 33 & 159\\\\\n",
       "\t 20 & 178 & 18 & 159\\\\\n",
       "\t 51 & 167 & 45 & 155\\\\\n",
       "\t 64 & 164 & 64 & 157\\\\\n",
       "\t 44 & 174 & 43 & 156\\\\\n",
       "\t 40 & 182 & 39 & 163\\\\\n",
       "\t 59 & 172 & 56 & 153\\\\\n",
       "\\end{tabular}\n"
      ],
      "text/markdown": [
       "\n",
       "A data.frame: 170 × 4\n",
       "\n",
       "| alter.mann &lt;int&gt; | groesse.mann &lt;int&gt; | alter.frau &lt;int&gt; | groesse.frau &lt;int&gt; |\n",
       "|---|---|---|---|\n",
       "| 49 | 180 | 43 | 159 |\n",
       "| 25 | 184 | 28 | 156 |\n",
       "| 40 | 165 | 30 | 162 |\n",
       "| 52 | 177 | 57 | 154 |\n",
       "| 58 | 161 | 52 | 142 |\n",
       "| 32 | 169 | 27 | 166 |\n",
       "| 43 | 173 | 52 | 161 |\n",
       "| 47 | 174 | 43 | 158 |\n",
       "| 31 | 168 | 23 | 161 |\n",
       "| 26 | 173 | 25 | 159 |\n",
       "| 40 | 171 | 39 | 161 |\n",
       "| 35 | 173 | 32 | 170 |\n",
       "| 35 | 179 | 35 | 168 |\n",
       "| 35 | 178 | 33 | 168 |\n",
       "| 47 | 175 | 43 | 163 |\n",
       "| 38 | 172 | 35 | 157 |\n",
       "| 33 | 172 | 32 | 172 |\n",
       "| 32 | 181 | 30 | 174 |\n",
       "| 38 | 172 | 40 | 160 |\n",
       "| 29 | 168 | 29 | 160 |\n",
       "| 59 | 158 | 55 | 155 |\n",
       "| 26 | 168 | 25 | 154 |\n",
       "| 50 | 167 | 45 | 164 |\n",
       "| 49 | 172 | 44 | 164 |\n",
       "| 42 | 163 | 40 | 163 |\n",
       "| 33 | 185 | 31 | 156 |\n",
       "| 27 | 170 | 25 | 158 |\n",
       "| 57 | 176 | 51 | 157 |\n",
       "| 34 | 170 | 31 | 159 |\n",
       "| 28 | 172 | 25 | 165 |\n",
       "| ... | ... | ... | ... |\n",
       "| 47 | 165 | 46 | 167 |\n",
       "| 44 | 179 | 40 | 162 |\n",
       "| 52 | 179 | 53 | 157 |\n",
       "| 45 | 182 | 40 | 166 |\n",
       "| 20 | 179 | 22 | 155 |\n",
       "| 60 | 172 | 60 | 159 |\n",
       "| 36 | 168 | 32 | 162 |\n",
       "| 25 | 176 | 24 | 156 |\n",
       "| 25 | 174 | 28 | 167 |\n",
       "| 35 | 171 | 40 | 165 |\n",
       "| 49 | 177 | 48 | 147 |\n",
       "| 33 | 176 | 33 | 158 |\n",
       "| 50 | 172 | 49 | 167 |\n",
       "| 63 | 164 | 64 | 152 |\n",
       "| 57 | 169 | 55 | 162 |\n",
       "| 41 | 185 | 41 | 171 |\n",
       "| 38 | 169 | 38 | 153 |\n",
       "| 30 | 188 | 31 | 163 |\n",
       "| 52 | 183 | 52 | 172 |\n",
       "| 51 | 173 | 43 | 157 |\n",
       "| 46 | 164 | 51 | 156 |\n",
       "| 50 | 172 | 47 | 165 |\n",
       "| 52 | 171 | 32 | 159 |\n",
       "| 30 | 172 | 33 | 159 |\n",
       "| 20 | 178 | 18 | 159 |\n",
       "| 51 | 167 | 45 | 155 |\n",
       "| 64 | 164 | 64 | 157 |\n",
       "| 44 | 174 | 43 | 156 |\n",
       "| 40 | 182 | 39 | 163 |\n",
       "| 59 | 172 | 56 | 153 |\n",
       "\n"
      ],
      "text/plain": [
       "    alter.mann groesse.mann alter.frau groesse.frau\n",
       "1   49         180          43         159         \n",
       "2   25         184          28         156         \n",
       "3   40         165          30         162         \n",
       "4   52         177          57         154         \n",
       "5   58         161          52         142         \n",
       "6   32         169          27         166         \n",
       "7   43         173          52         161         \n",
       "8   47         174          43         158         \n",
       "9   31         168          23         161         \n",
       "10  26         173          25         159         \n",
       "11  40         171          39         161         \n",
       "12  35         173          32         170         \n",
       "13  35         179          35         168         \n",
       "14  35         178          33         168         \n",
       "15  47         175          43         163         \n",
       "16  38         172          35         157         \n",
       "17  33         172          32         172         \n",
       "18  32         181          30         174         \n",
       "19  38         172          40         160         \n",
       "20  29         168          29         160         \n",
       "21  59         158          55         155         \n",
       "22  26         168          25         154         \n",
       "23  50         167          45         164         \n",
       "24  49         172          44         164         \n",
       "25  42         163          40         163         \n",
       "26  33         185          31         156         \n",
       "27  27         170          25         158         \n",
       "28  57         176          51         157         \n",
       "29  34         170          31         159         \n",
       "30  28         172          25         165         \n",
       "... ...        ...          ...        ...         \n",
       "141 47         165          46         167         \n",
       "142 44         179          40         162         \n",
       "143 52         179          53         157         \n",
       "144 45         182          40         166         \n",
       "145 20         179          22         155         \n",
       "146 60         172          60         159         \n",
       "147 36         168          32         162         \n",
       "148 25         176          24         156         \n",
       "149 25         174          28         167         \n",
       "150 35         171          40         165         \n",
       "151 49         177          48         147         \n",
       "152 33         176          33         158         \n",
       "153 50         172          49         167         \n",
       "154 63         164          64         152         \n",
       "155 57         169          55         162         \n",
       "156 41         185          41         171         \n",
       "157 38         169          38         153         \n",
       "158 30         188          31         163         \n",
       "159 52         183          52         172         \n",
       "160 51         173          43         157         \n",
       "161 46         164          51         156         \n",
       "162 50         172          47         165         \n",
       "163 52         171          32         159         \n",
       "164 30         172          33         159         \n",
       "165 20         178          18         159         \n",
       "166 51         167          45         155         \n",
       "167 64         164          64         157         \n",
       "168 44         174          43         156         \n",
       "169 40         182          39         163         \n",
       "170 59         172          56         153         "
      ]
     },
     "metadata": {},
     "output_type": "display_data"
    }
   ],
   "source": [
    "data"
   ]
  },
  {
   "cell_type": "markdown",
   "id": "1da790f4-3bef-40a8-ab83-aadcdc440817",
   "metadata": {},
   "source": [
    "Boxplot für differenz des alters:"
   ]
  },
  {
   "cell_type": "code",
   "execution_count": 42,
   "id": "ad76bfda-dbea-42dd-a5fc-8c61c769b747",
   "metadata": {},
   "outputs": [
    {
     "data": {
      "image/png": "[encoded data removed]",
      "text/plain": [
       "plot without title"
      ]
     },
     "metadata": {
      "image/png": {
       "height": 420,
       "width": 420
      }
     },
     "output_type": "display_data"
    }
   ],
   "source": [
    "alter.mann <- data[, 1]\n",
    "alter.frau <- data[, 3]\n",
    "boxplot(alter.mann - alter.frau,\n",
    "col = \"orange\")"
   ]
  },
  {
   "cell_type": "markdown",
   "id": "e7168580-29a1-4702-83ed-f1f463c9ff02",
   "metadata": {},
   "source": [
    "## 2.4"
   ]
  },
  {
   "cell_type": "code",
   "execution_count": 43,
   "id": "a6778f25-846d-47ea-a5a3-028e64ae95a5",
   "metadata": {},
   "outputs": [
    {
     "data": {
      "text/html": [
       "<style>\n",
       ".dl-inline {width: auto; margin:0; padding: 0}\n",
       ".dl-inline>dt, .dl-inline>dd {float: none; width: auto; display: inline-block}\n",
       ".dl-inline>dt::after {content: \":\\0020\"; padding-right: .5ex}\n",
       ".dl-inline>dt:not(:first-of-type) {padding-left: .5ex}\n",
       "</style><dl class=dl-inline><dt>A</dt><dd>14.5</dd><dt>B</dt><dd>15.3333333333333</dd><dt>C</dt><dd>2.08333333333333</dd><dt>D</dt><dd>4.91666666666667</dd><dt>E</dt><dd>3.5</dd><dt>F</dt><dd>16.6666666666667</dd></dl>\n"
      ],
      "text/latex": [
       "\\begin{description*}\n",
       "\\item[A] 14.5\n",
       "\\item[B] 15.3333333333333\n",
       "\\item[C] 2.08333333333333\n",
       "\\item[D] 4.91666666666667\n",
       "\\item[E] 3.5\n",
       "\\item[F] 16.6666666666667\n",
       "\\end{description*}\n"
      ],
      "text/markdown": [
       "A\n",
       ":   14.5B\n",
       ":   15.3333333333333C\n",
       ":   2.08333333333333D\n",
       ":   4.91666666666667E\n",
       ":   3.5F\n",
       ":   16.6666666666667\n",
       "\n"
      ],
      "text/plain": [
       "        A         B         C         D         E         F \n",
       "14.500000 15.333333  2.083333  4.916667  3.500000 16.666667 "
      ]
     },
     "metadata": {},
     "output_type": "display_data"
    }
   ],
   "source": [
    "tapply(InsectSprays[, \"count\"], InsectSprays[, \"spray\"], FUN = mean)"
   ]
  },
  {
   "cell_type": "code",
   "execution_count": null,
   "id": "bbd694ab-ab0e-49c5-aaac-29ae14798fe4",
   "metadata": {},
   "outputs": [],
   "source": []
  }
 ],
 "metadata": {
  "kernelspec": {
   "display_name": "R",
   "language": "R",
   "name": "ir"
  },
  "language_info": {
   "codemirror_mode": "r",
   "file_extension": ".r",
   "mimetype": "text/x-r-source",
   "name": "R",
   "pygments_lexer": "r",
   "version": "4.1.1"
  }
 },
 "nbformat": 4,
 "nbformat_minor": 5
}

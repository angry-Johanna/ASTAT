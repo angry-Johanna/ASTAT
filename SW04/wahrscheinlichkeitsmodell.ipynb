{
 "cells": [
  {
   "cell_type": "markdown",
   "id": "2339de48-3a05-462c-8596-e6b6c7cf8bf8",
   "metadata": {},
   "source": [
    "# Wahrscheinlichkeitsmodell"
   ]
  },
  {
   "cell_type": "markdown",
   "id": "0ac4735e-df9c-4001-a98e-40423b181ac4",
   "metadata": {},
   "source": [
    "## Inhaltsverzeichnis\n",
    "* [Wahrscheinlichkeitsmodell](#wm)\n",
    "* [Komponenten](#wmk)\n",
    "    * [Würfelwurf](#bsp1)\n",
    "    * [Münzwurf](#bsp2)\n",
    "* [Mengen](#mng)\n",
    "* [Kolmogorov Axiome der Wahrscheinlichkeitsrechnung](#kaw)\n",
    "* [Rechenregeln aus Axiomen](#ra)\n",
    "* [Laplace Modell](#lm)\n",
    "    * [Beispiel Laplace](#bsp3)\n",
    "* [Stochastische Unabhängigkeit](#su)\n",
    "    * [Beispiel stochastische Unabhängigkeit](#bsp4)"
   ]
  },
  {
   "cell_type": "markdown",
   "id": "9b2032aa-d8ff-40ee-9736-5401cef6d929",
   "metadata": {},
   "source": [
    "## Wahrscheinlichkeitsmodell <a name=\"wm\"></a>\n",
    "**Zufallsexperiment**: Ausgang nicht exakt vorhersagbar\n",
    "\n",
    "**Wahrscheinlichkeitsmodell**: \n",
    "* Ereignisse, die in einem Zufallsexperiment möglich sind\n",
    "* Wahrscheinlichkeiten, die die verschiedenen Ergebnisse haben\n"
   ]
  },
  {
   "cell_type": "markdown",
   "id": "a147b980-5fa5-4eb0-a4f1-12221ac440c6",
   "metadata": {},
   "source": [
    "### Komponente <a name=\"wmk\"></a>\n",
    "Komponente von Wahrscheinlichkeitsmodell:\n",
    "* Grundraum $\\Omega$: Enthält alle möglichen Elementarerignisse $\\omega$\n",
    "* Elementarereignisse: Mögliche Ergebnisse (Ausgänge) des Experiments\n",
    "* Ereignisse A, B, C: Teilmengen des Grundraums\n",
    "* Wahrscheinlichkeiten P, die zu den Ereignissen A, B, C gehören\n",
    "\n",
    "\n",
    "* Ereignis $A$: Teilmenge von $\\Omega$: $A \\subset \\Omega$"
   ]
  },
  {
   "cell_type": "markdown",
   "id": "76df0ba6-3714-4678-a497-5c4beeaa5be9",
   "metadata": {
    "tags": []
   },
   "source": [
    "### Beispiel Würfelwurf <a name=\"bsp1\"></a>\n",
    "* Grundraum (mögliche Ereignisse): $\\Omega=\\{1,2,3,4,5,6\\}$\n",
    "* Element $\\omega=2$ ist ein Elementarereignis\n",
    "* Bedeutung: Beim würfeln wurde die Zahl 2 geworfen\n",
    "\n",
    "### Beispiel Münzwurf <a name=\"bsp2\"></a>\n",
    "* 2-maliges Werfen einer Münze\n",
    "* Bezeichnung K: Kopf und Z: Zahl\n",
    "* Grundraum: $\\Omega=\\{KK,KZ,ZK,ZZ\\}$\n",
    "* Elementarereignis: $\\omega=KK$\n",
    "\n",
    "Ereignis $A$ wo genau einmal $K$ geworfen wird:\n",
    "* Ereignis $A$ besteht aus den Elementarereignissen $KZ$ und $ZK$\n",
    "* Wahrscheinlichkeit, dass $A$ eintritt:\n",
    "\n",
    "$P(A)=\\frac{2}{4}=\\frac{1}{2}$"
   ]
  },
  {
   "cell_type": "markdown",
   "id": "44f67399-1464-4969-9188-9d437da7f861",
   "metadata": {
    "tags": []
   },
   "source": [
    "## Mengen <a name=\"mng\"></a>\n",
    "Operationen der Mengenlehre für Ereignisse:\n",
    "\n",
    "| Name | Symbol | Bedeutung | \n",
    "| :-: | :-: | :-: |\n",
    "| Vereinigung |  $A \\cup B$ | A oder B, nicht-exklusives \"oder\" |\n",
    "| Schnittmenge | $A \\cap B$ | A und B |\n",
    "| Komplement | $\\overline A$ | nicht A |\n",
    "| Differenz | A\\B=$A\\cap\\overline B$ | A ohne B |"
   ]
  },
  {
   "cell_type": "markdown",
   "id": "cbcde8f7-a6c1-4902-900d-38072081f66d",
   "metadata": {},
   "source": [
    "![mengen](images/mengen.PNG)"
   ]
  },
  {
   "cell_type": "markdown",
   "id": "c0566d1f-6dc6-4efc-aa83-90d654df22d8",
   "metadata": {},
   "source": [
    "## Kolmogorov Axiome der Wahrscheinlichkeitsrechnung <a name=\"kaw\"></a>\n",
    "Jedes Ereignis $A$ wird eine Wahrscheinlichkeit $P(A)$ zugeordnet mit:\n",
    "1. $P(A)\\geq 0$\n",
    "2. $P(\\Omega)=1$\n",
    "3. $P(A\\cup B)=P(A)+P(B)$, falls $A\\cap B=\\{\\}$"
   ]
  },
  {
   "cell_type": "markdown",
   "id": "02847a8f-8d71-47ae-8277-fa43c08dd1b6",
   "metadata": {},
   "source": [
    "## Rechenregeln aus Axiomen <a name=\"ra\"></a>\n",
    "Sind $A, B$ und $A_1,...A_n$ Ereignisse, dann gilt:\n",
    "* $P(\\overline A)=1-P(A)$ für jedes beliebige A\n",
    "* $P(A\\cup B)=P(A)+P(B)-P(A\\cap B)$ für jedes beliebige A und B\n",
    "* $P(A_1\\cup ... \\cup A_n) \\leq P(A_1)+...+P(A_n)$ für jedes beliebige $A_1,...,A_n$\n",
    "* $P(B)\\leq P(A)$ für jedes beliebige A und B mit $B \\subseteq A$\n",
    "* $P(A$ \\ $B)=P(A)-P(B)$ für jedes beliebige A und B mit $B \\subseteq A$"
   ]
  },
  {
   "cell_type": "markdown",
   "id": "336407ed-5c3a-4681-a24c-c6b0b408a255",
   "metadata": {},
   "source": [
    "## Laplace Modell <a name=\"lm\"></a>\n",
    "* Annahme: Jedes Elementarereignis hat die gleiche Wahrscheinlichkeit\n",
    "* Ereignis $E=\\{\\omega_1,...,\\omega_g\\}$\n",
    "* Grundraum $m$ Elemente\n",
    "* Wahrscheinlichkeiten addieren sich zu 1 und deshalb:\n",
    "\n",
    "$P(\\omega_k)=\\frac{1}{|\\Omega|}=\\frac{1}{m}$\n",
    "\n",
    "Für ein Ereignis $E$ im Laplace Modell gilt also:\n",
    "\n",
    "$P(E)=\\frac{g}{m}=\\sum\\limits_{k:\\omega_k \\in E}P(\\{\\omega_k\\})$\n",
    "\n",
    "`Man teilt die Anzahl der günstigen Elementarereignisse durch die Anzahl der möglichen Elementarereignisse`"
   ]
  },
  {
   "cell_type": "markdown",
   "id": "e188c814-c4c4-4098-b08f-eca2d294ff19",
   "metadata": {},
   "source": [
    "### Beispiel Laplace <a name=\"bsp3\"></a>\n",
    "Es werden zwei verschiedene (blau und rot) Würfel geworfen.\n",
    "Wie gross ist die W’keit, dass die Augensumme 7 ergibt?\n",
    "\n",
    "Elementarereignis beschreibt die Augenzahlen auf beiden Würfeln\n",
    "\n",
    "Ergebnis in der Form 14 schreiben. \n",
    "Ergebnis 14 ist nicht gleich 41\n",
    "\n",
    "Elementarereignisse: $\\Omega=\\{11,12,...65,66\\}$\n",
    "\n",
    "Anzahl Elementarereignisse: $|\\Omega|=36$\n",
    "\n",
    "Ereignis $E$: Augensumme 7 wird gewürfelt: $E=\\{16,25,34,43,52,61\\}$\n",
    "\n",
    "Alle Elementarereignisse gleich wahrscheinlich: \n",
    "\n",
    "$P(E)=\\frac{|E|}{|\\Omega|}=\\frac{6}{36}=\\frac{1}{6}$"
   ]
  },
  {
   "cell_type": "markdown",
   "id": "cbfa5af9-caec-4f72-bdbf-0b99039649b3",
   "metadata": {},
   "source": [
    "## Stochastische Unabhängigkeit <a name=\"su\"></a>\n",
    "Stochastisch Unabhängig: Ausgang des Ereignisses $A$ hat keinen Einfluss auf den Ausgang des Ereignisses $B$ und umgekehrt.\n",
    "Sind Ereignisse $A$ und $B$ stochastisch unabhängig, so gilt:\n",
    "\n",
    "$P(A\\cap B)=P(A)*P(B)$"
   ]
  },
  {
   "cell_type": "markdown",
   "id": "e9a00fa7-71a0-4635-8344-146186825c6c",
   "metadata": {},
   "source": [
    "### Beispiel stochastische Unabhängigkeit <a name=\"bsp4\"></a>\n",
    "Werfe eine Münze zweimal nacheinander. Zwei mal Kopf?\n",
    "\n",
    "\n",
    "$P(A\\cap B)=P(A)*P(B)=\\frac{1}{2}*\\frac{1}{2}=\\frac{1}{4}$"
   ]
  },
  {
   "cell_type": "code",
   "execution_count": null,
   "id": "86148ae4-6f66-414c-8566-86291100e322",
   "metadata": {},
   "outputs": [],
   "source": []
  },
  {
   "cell_type": "code",
   "execution_count": null,
   "id": "f2ab13ab-2319-4eb0-9272-0afae98e7a08",
   "metadata": {},
   "outputs": [],
   "source": []
  }
 ],
 "metadata": {
  "kernelspec": {
   "display_name": "R",
   "language": "R",
   "name": "ir"
  },
  "language_info": {
   "codemirror_mode": "r",
   "file_extension": ".r",
   "mimetype": "text/x-r-source",
   "name": "R",
   "pygments_lexer": "r",
   "version": "4.1.1"
  }
 },
 "nbformat": 4,
 "nbformat_minor": 5
}

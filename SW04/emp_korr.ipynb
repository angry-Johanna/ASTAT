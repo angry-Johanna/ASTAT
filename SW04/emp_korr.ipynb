{
 "cells": [
  {
   "cell_type": "markdown",
   "id": "66ac7e59-69e2-4d91-91a2-495667bd6f06",
   "metadata": {},
   "source": [
    "# Korrelation"
   ]
  },
  {
   "cell_type": "markdown",
   "id": "41c45f76-1193-4a9b-b85c-f9a4b68e3a7e",
   "metadata": {},
   "source": [
    "## Inhaltsverzeichnis\n",
    "* [Empirische Korrelation](#ek)\n",
    "    * [Empirische Korrelation in R](#ekr)"
   ]
  },
  {
   "cell_type": "markdown",
   "id": "07c58be7-4488-4d87-b06d-3e73c5ee484b",
   "metadata": {},
   "source": [
    "## Empirische Korrelation <a name=\"ek\"></a>\n",
    "Numerischer Wert der *linearen* Abhängigkeit von zwei Grössen als empirische Korrelation:\n",
    "\n",
    "$r=\\frac{(x_1-\\overline x)+...+(x_n-\\overline x)+(y_n-\\overline y)}\n",
    "{\\sqrt{(x_1-\\overline x)^2+...+(x_n-\\overline x)^2}\\sqrt{(y_1-\\overline y)^2+...+(y_n-\\overline y)^2}}$\n",
    "\n",
    "$=\\frac{\\sum\\limits_{i=1}^n(x_i-\\overline x)(y_i-\\overline y)}\n",
    "{\\sqrt{(\\sum\\limits_{i=1}^n(x_i-\\overline x)^2)(\\sum\\limits_{i=1}^n(y_i-\\overline y)^2)}}$\n",
    "\n",
    "$\\overline x$ / $\\overline y$: Durchschnitt von $x$ bzw $y$\n",
    "\n",
    "* Dimensionslose Zahl zwischen -1 und +1.\n",
    "* Misst Stärke und Richtung der linearen Abhängigkeit zwischen Daten x und y\n",
    "* $r=+1$: Punkte liegen auf steigender Geraden: $y=a+bx$ mit $a\\in\\mathbb{R}$ und $b>0$\n",
    "* $r=-1$: Punkte liegen auf fallender Geraden: $y=a+bx$ mit $a\\in\\mathbb{R}$ und $b<0$\n",
    "* Sind x und y unabhängig (dh kein linearer Zusammenhang), so ist $r=0$"
   ]
  },
  {
   "cell_type": "markdown",
   "id": "b985eae2-4ad6-45e8-9bf6-c5b9c998a2a3",
   "metadata": {},
   "source": [
    "### Empirische Korrelation in R <a name=\"ekr\"></a>"
   ]
  },
  {
   "cell_type": "code",
   "execution_count": 3,
   "id": "77037428-09cd-4e32-acb4-a7287cc630b8",
   "metadata": {},
   "outputs": [
    {
     "data": {
      "text/html": [
       "0.437933963599029"
      ],
      "text/latex": [
       "0.437933963599029"
      ],
      "text/markdown": [
       "0.437933963599029"
      ],
      "text/plain": [
       "[1] 0.437934"
      ]
     },
     "metadata": {},
     "output_type": "display_data"
    }
   ],
   "source": [
    "gewicht <- c(60, 72, 57, 90, 95, 72)\n",
    "groesse <- c(1.75, 1.80, 1.65, 1.90, 1.74, 1.91)\n",
    "\n",
    "cor(gewicht, groesse)"
   ]
  },
  {
   "cell_type": "code",
   "execution_count": null,
   "id": "ac37b7e3-17ba-4314-8804-eaa5aa6f9a43",
   "metadata": {},
   "outputs": [],
   "source": []
  }
 ],
 "metadata": {
  "kernelspec": {
   "display_name": "R",
   "language": "R",
   "name": "ir"
  },
  "language_info": {
   "codemirror_mode": "r",
   "file_extension": ".r",
   "mimetype": "text/x-r-source",
   "name": "R",
   "pygments_lexer": "r",
   "version": "4.1.1"
  }
 },
 "nbformat": 4,
 "nbformat_minor": 5
}

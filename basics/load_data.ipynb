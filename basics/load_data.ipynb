{
 "cells": [
  {
   "cell_type": "markdown",
   "id": "0814da35-3aac-424d-8f31-5f5bd9e81c91",
   "metadata": {},
   "source": [
    "# Load Data and access values"
   ]
  },
  {
   "cell_type": "markdown",
   "id": "2107c960-203f-4030-8100-35cbf143cb8c",
   "metadata": {},
   "source": [
    "Get and set workdir"
   ]
  },
  {
   "cell_type": "code",
   "execution_count": 4,
   "id": "a62b4aa1-2964-4d9c-b35b-a4441f4d8da5",
   "metadata": {},
   "outputs": [],
   "source": [
    "wd <- getwd()\n",
    "setwd(wd)"
   ]
  },
  {
   "cell_type": "markdown",
   "id": "18e76264-f68f-4f21-9fdf-a5f2197dca5e",
   "metadata": {},
   "source": [
    "Load data"
   ]
  },
  {
   "cell_type": "code",
   "execution_count": 1,
   "id": "5925d3ad-e48f-4789-a444-f68ddac65dde",
   "metadata": {},
   "outputs": [
    {
     "data": {
      "text/html": [
       "<table class=\"dataframe\">\n",
       "<caption>A data.frame: 6 × 4</caption>\n",
       "<thead>\n",
       "\t<tr><th></th><th scope=col>Luzern</th><th scope=col>Basel</th><th scope=col>Chur</th><th scope=col>Zurich</th></tr>\n",
       "\t<tr><th></th><th scope=col>&lt;int&gt;</th><th scope=col>&lt;int&gt;</th><th scope=col>&lt;int&gt;</th><th scope=col>&lt;int&gt;</th></tr>\n",
       "</thead>\n",
       "<tbody>\n",
       "\t<tr><th scope=row>Jan</th><td> 2</td><td> 5</td><td>-3</td><td> 4</td></tr>\n",
       "\t<tr><th scope=row>Feb</th><td> 5</td><td> 6</td><td> 1</td><td> 0</td></tr>\n",
       "\t<tr><th scope=row>Mar</th><td>10</td><td>11</td><td>13</td><td> 8</td></tr>\n",
       "\t<tr><th scope=row>Apr</th><td>16</td><td>12</td><td>14</td><td>17</td></tr>\n",
       "\t<tr><th scope=row>May</th><td>21</td><td>23</td><td>21</td><td>20</td></tr>\n",
       "\t<tr><th scope=row>Jun</th><td>25</td><td>21</td><td>23</td><td>27</td></tr>\n",
       "</tbody>\n",
       "</table>\n"
      ],
      "text/latex": [
       "A data.frame: 6 × 4\n",
       "\\begin{tabular}{r|llll}\n",
       "  & Luzern & Basel & Chur & Zurich\\\\\n",
       "  & <int> & <int> & <int> & <int>\\\\\n",
       "\\hline\n",
       "\tJan &  2 &  5 & -3 &  4\\\\\n",
       "\tFeb &  5 &  6 &  1 &  0\\\\\n",
       "\tMar & 10 & 11 & 13 &  8\\\\\n",
       "\tApr & 16 & 12 & 14 & 17\\\\\n",
       "\tMay & 21 & 23 & 21 & 20\\\\\n",
       "\tJun & 25 & 21 & 23 & 27\\\\\n",
       "\\end{tabular}\n"
      ],
      "text/markdown": [
       "\n",
       "A data.frame: 6 × 4\n",
       "\n",
       "| <!--/--> | Luzern &lt;int&gt; | Basel &lt;int&gt; | Chur &lt;int&gt; | Zurich &lt;int&gt; |\n",
       "|---|---|---|---|---|\n",
       "| Jan |  2 |  5 | -3 |  4 |\n",
       "| Feb |  5 |  6 |  1 |  0 |\n",
       "| Mar | 10 | 11 | 13 |  8 |\n",
       "| Apr | 16 | 12 | 14 | 17 |\n",
       "| May | 21 | 23 | 21 | 20 |\n",
       "| Jun | 25 | 21 | 23 | 27 |\n",
       "\n"
      ],
      "text/plain": [
       "    Luzern Basel Chur Zurich\n",
       "Jan  2      5    -3    4    \n",
       "Feb  5      6     1    0    \n",
       "Mar 10     11    13    8    \n",
       "Apr 16     12    14   17    \n",
       "May 21     23    21   20    \n",
       "Jun 25     21    23   27    "
      ]
     },
     "metadata": {},
     "output_type": "display_data"
    }
   ],
   "source": [
    "data <- read.csv(\"weather.csv\")\n",
    "data"
   ]
  },
  {
   "cell_type": "markdown",
   "id": "3a399795-cb8f-46da-9d0a-bedf56f110bd",
   "metadata": {},
   "source": [
    "Read data:"
   ]
  },
  {
   "cell_type": "code",
   "execution_count": null,
   "id": "338cd602-eaf7-4762-a3d1-11785215545e",
   "metadata": {},
   "outputs": [],
   "source": [
    "data\n",
    "\n",
    "# read 2 row, 3 column\n",
    "data[2,3]\n",
    "\n",
    "# read 4 row\n",
    "data[4,]\n",
    "\n",
    "# read Luzern and Zurich\n",
    "data[, c(\"Luzern\", \"Zurich\")]\n",
    "\n",
    "# get name of 3 column\n",
    "colnames(data)[3]"
   ]
  },
  {
   "cell_type": "markdown",
   "id": "783fd43b-9365-4b51-8f28-ca64643529c7",
   "metadata": {},
   "source": [
    "Safe part of loaded data in a new var and safe this in a new file"
   ]
  },
  {
   "cell_type": "code",
   "execution_count": 6,
   "id": "ae58da1a-e15f-436e-95f0-23696ffebcaa",
   "metadata": {},
   "outputs": [],
   "source": [
    "data1 <- data[, c(\"Luzern\", \"Zurich\")]\n",
    "write.csv(data1, file = \"weather1.csv\")"
   ]
  },
  {
   "cell_type": "markdown",
   "id": "7cd77018-eaa0-4ae8-bc22-07f7ef2375fc",
   "metadata": {},
   "source": [
    "Replace name of second column"
   ]
  },
  {
   "cell_type": "code",
   "execution_count": 7,
   "id": "0a1f299d-52d6-4b19-a950-4603dfcad53c",
   "metadata": {},
   "outputs": [],
   "source": [
    "colnames(data)[2] <- \"Genf\""
   ]
  },
  {
   "cell_type": "markdown",
   "id": "7b78f5e3-8607-408e-9f8e-8022910312f7",
   "metadata": {},
   "source": [
    "Sort by temperature from zurich"
   ]
  },
  {
   "cell_type": "code",
   "execution_count": 8,
   "id": "154bedba-c421-499c-83d5-0e5efc7ab30e",
   "metadata": {},
   "outputs": [
    {
     "data": {
      "text/html": [
       "<table class=\"dataframe\">\n",
       "<caption>A data.frame: 6 × 4</caption>\n",
       "<thead>\n",
       "\t<tr><th></th><th scope=col>Luzern</th><th scope=col>Genf</th><th scope=col>Chur</th><th scope=col>Zurich</th></tr>\n",
       "\t<tr><th></th><th scope=col>&lt;int&gt;</th><th scope=col>&lt;int&gt;</th><th scope=col>&lt;int&gt;</th><th scope=col>&lt;int&gt;</th></tr>\n",
       "</thead>\n",
       "<tbody>\n",
       "\t<tr><th scope=row>Feb</th><td> 5</td><td> 6</td><td> 1</td><td> 0</td></tr>\n",
       "\t<tr><th scope=row>Jan</th><td> 2</td><td> 5</td><td>-3</td><td> 4</td></tr>\n",
       "\t<tr><th scope=row>Mar</th><td>10</td><td>11</td><td>13</td><td> 8</td></tr>\n",
       "\t<tr><th scope=row>Apr</th><td>16</td><td>12</td><td>14</td><td>17</td></tr>\n",
       "\t<tr><th scope=row>May</th><td>21</td><td>23</td><td>21</td><td>20</td></tr>\n",
       "\t<tr><th scope=row>Jun</th><td>25</td><td>21</td><td>23</td><td>27</td></tr>\n",
       "</tbody>\n",
       "</table>\n"
      ],
      "text/latex": [
       "A data.frame: 6 × 4\n",
       "\\begin{tabular}{r|llll}\n",
       "  & Luzern & Genf & Chur & Zurich\\\\\n",
       "  & <int> & <int> & <int> & <int>\\\\\n",
       "\\hline\n",
       "\tFeb &  5 &  6 &  1 &  0\\\\\n",
       "\tJan &  2 &  5 & -3 &  4\\\\\n",
       "\tMar & 10 & 11 & 13 &  8\\\\\n",
       "\tApr & 16 & 12 & 14 & 17\\\\\n",
       "\tMay & 21 & 23 & 21 & 20\\\\\n",
       "\tJun & 25 & 21 & 23 & 27\\\\\n",
       "\\end{tabular}\n"
      ],
      "text/markdown": [
       "\n",
       "A data.frame: 6 × 4\n",
       "\n",
       "| <!--/--> | Luzern &lt;int&gt; | Genf &lt;int&gt; | Chur &lt;int&gt; | Zurich &lt;int&gt; |\n",
       "|---|---|---|---|---|\n",
       "| Feb |  5 |  6 |  1 |  0 |\n",
       "| Jan |  2 |  5 | -3 |  4 |\n",
       "| Mar | 10 | 11 | 13 |  8 |\n",
       "| Apr | 16 | 12 | 14 | 17 |\n",
       "| May | 21 | 23 | 21 | 20 |\n",
       "| Jun | 25 | 21 | 23 | 27 |\n",
       "\n"
      ],
      "text/plain": [
       "    Luzern Genf Chur Zurich\n",
       "Feb  5      6    1    0    \n",
       "Jan  2      5   -3    4    \n",
       "Mar 10     11   13    8    \n",
       "Apr 16     12   14   17    \n",
       "May 21     23   21   20    \n",
       "Jun 25     21   23   27    "
      ]
     },
     "metadata": {},
     "output_type": "display_data"
    }
   ],
   "source": [
    "data3 <- data[order(data[, \"Zurich\"]), ]\n",
    "data3"
   ]
  }
 ],
 "metadata": {
  "kernelspec": {
   "display_name": "R",
   "language": "R",
   "name": "ir"
  },
  "language_info": {
   "codemirror_mode": "r",
   "file_extension": ".r",
   "mimetype": "text/x-r-source",
   "name": "R",
   "pygments_lexer": "r",
   "version": "4.1.1"
  }
 },
 "nbformat": 4,
 "nbformat_minor": 5
}

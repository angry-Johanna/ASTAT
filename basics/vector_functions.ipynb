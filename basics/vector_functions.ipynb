{
 "cells": [
  {
   "cell_type": "markdown",
   "id": "d3c0c630-bebd-4dd8-8df8-996cc5a9f5fb",
   "metadata": {},
   "source": [
    "# Vector Functions"
   ]
  },
  {
   "cell_type": "code",
   "execution_count": 1,
   "id": "31543f44-1565-48bb-9027-8b6f92adfb4c",
   "metadata": {},
   "outputs": [],
   "source": [
    "v <- c(4, 2, 1, 3, 3, 5, 7)"
   ]
  },
  {
   "cell_type": "markdown",
   "id": "fff3161a-3b1b-49b3-8580-0f568e8bb491",
   "metadata": {},
   "source": [
    "length of vector:"
   ]
  },
  {
   "cell_type": "code",
   "execution_count": 5,
   "id": "d96ece46-8fb7-41cf-b59e-6263dc9ee4c4",
   "metadata": {},
   "outputs": [
    {
     "data": {
      "text/html": [
       "7"
      ],
      "text/latex": [
       "7"
      ],
      "text/markdown": [
       "7"
      ],
      "text/plain": [
       "[1] 7"
      ]
     },
     "metadata": {},
     "output_type": "display_data"
    }
   ],
   "source": [
    "length(v)"
   ]
  },
  {
   "cell_type": "markdown",
   "id": "1c9e05fb-ffb0-47d5-b158-714096986efb",
   "metadata": {},
   "source": [
    "Add 2 to each vector value"
   ]
  },
  {
   "cell_type": "code",
   "execution_count": 6,
   "id": "ef69a146-148c-45ab-84ab-d4e3718a57b4",
   "metadata": {},
   "outputs": [
    {
     "data": {
      "text/html": [
       "<style>\n",
       ".list-inline {list-style: none; margin:0; padding: 0}\n",
       ".list-inline>li {display: inline-block}\n",
       ".list-inline>li:not(:last-child)::after {content: \"\\00b7\"; padding: 0 .5ex}\n",
       "</style>\n",
       "<ol class=list-inline><li>6</li><li>4</li><li>3</li><li>5</li><li>5</li><li>7</li><li>9</li></ol>\n"
      ],
      "text/latex": [
       "\\begin{enumerate*}\n",
       "\\item 6\n",
       "\\item 4\n",
       "\\item 3\n",
       "\\item 5\n",
       "\\item 5\n",
       "\\item 7\n",
       "\\item 9\n",
       "\\end{enumerate*}\n"
      ],
      "text/markdown": [
       "1. 6\n",
       "2. 4\n",
       "3. 3\n",
       "4. 5\n",
       "5. 5\n",
       "6. 7\n",
       "7. 9\n",
       "\n",
       "\n"
      ],
      "text/plain": [
       "[1] 6 4 3 5 5 7 9"
      ]
     },
     "metadata": {},
     "output_type": "display_data"
    }
   ],
   "source": [
    "v+2"
   ]
  },
  {
   "cell_type": "markdown",
   "id": "6ea6a33e-25f6-4315-bf05-a2df1750910c",
   "metadata": {},
   "source": [
    "sum of all values of vector"
   ]
  },
  {
   "cell_type": "code",
   "execution_count": 7,
   "id": "12e08188-696e-4ddf-9898-62829bfc8065",
   "metadata": {},
   "outputs": [
    {
     "data": {
      "text/html": [
       "25"
      ],
      "text/latex": [
       "25"
      ],
      "text/markdown": [
       "25"
      ],
      "text/plain": [
       "[1] 25"
      ]
     },
     "metadata": {},
     "output_type": "display_data"
    }
   ],
   "source": [
    "sum(v)"
   ]
  },
  {
   "cell_type": "code",
   "execution_count": 13,
   "id": "1fc324da-caec-43e9-994f-eb84c2018356",
   "metadata": {},
   "outputs": [
    {
     "data": {
      "text/html": [
       "<style>\n",
       ".list-inline {list-style: none; margin:0; padding: 0}\n",
       ".list-inline>li {display: inline-block}\n",
       ".list-inline>li:not(:last-child)::after {content: \"\\00b7\"; padding: 0 .5ex}\n",
       "</style>\n",
       "<ol class=list-inline><li>4</li><li>2</li><li>1</li><li>3</li><li>3</li><li>5</li><li>7</li></ol>\n"
      ],
      "text/latex": [
       "\\begin{enumerate*}\n",
       "\\item 4\n",
       "\\item 2\n",
       "\\item 1\n",
       "\\item 3\n",
       "\\item 3\n",
       "\\item 5\n",
       "\\item 7\n",
       "\\end{enumerate*}\n"
      ],
      "text/markdown": [
       "1. 4\n",
       "2. 2\n",
       "3. 1\n",
       "4. 3\n",
       "5. 3\n",
       "6. 5\n",
       "7. 7\n",
       "\n",
       "\n"
      ],
      "text/plain": [
       "[1] 4 2 1 3 3 5 7"
      ]
     },
     "metadata": {},
     "output_type": "display_data"
    }
   ],
   "source": [
    "v"
   ]
  },
  {
   "cell_type": "code",
   "execution_count": 27,
   "id": "d5e2705c-9f40-4f0c-a0f1-66d4d4b3e0ee",
   "metadata": {},
   "outputs": [],
   "source": [
    "x <- c(4, 10, 3, NA, NA, 1, 8)"
   ]
  },
  {
   "cell_type": "markdown",
   "id": "4fedb5ae-1308-4595-8519-3c6f974f8552",
   "metadata": {},
   "source": [
    "mean (Durchschnitt)"
   ]
  },
  {
   "cell_type": "code",
   "execution_count": 28,
   "id": "042d5de5-2f7e-4b48-bebf-08d65baa825e",
   "metadata": {},
   "outputs": [
    {
     "data": {
      "text/html": [
       "&lt;NA&gt;"
      ],
      "text/latex": [
       "<NA>"
      ],
      "text/markdown": [
       "&lt;NA&gt;"
      ],
      "text/plain": [
       "[1] NA"
      ]
     },
     "metadata": {},
     "output_type": "display_data"
    }
   ],
   "source": [
    "mean(x)"
   ]
  },
  {
   "cell_type": "markdown",
   "id": "b1855ad5-507a-46dd-b351-c5ecf825902a",
   "metadata": {},
   "source": [
    "mean without NA (because with NA included, mean is NA)"
   ]
  },
  {
   "cell_type": "code",
   "execution_count": 30,
   "id": "215df80d-f4cf-4e12-a5a1-3e3c0aca74d1",
   "metadata": {},
   "outputs": [
    {
     "data": {
      "text/html": [
       "5.2"
      ],
      "text/latex": [
       "5.2"
      ],
      "text/markdown": [
       "5.2"
      ],
      "text/plain": [
       "[1] 5.2"
      ]
     },
     "metadata": {},
     "output_type": "display_data"
    }
   ],
   "source": [
    "mean(x, na.rm=TRUE)"
   ]
  },
  {
   "cell_type": "markdown",
   "id": "9a0370ba-bd7f-40ae-9a2c-6a3ebb583050",
   "metadata": {},
   "source": [
    "sort"
   ]
  },
  {
   "cell_type": "code",
   "execution_count": 31,
   "id": "b0eaf2b8-fd77-4531-ba25-8eca76fe2f13",
   "metadata": {},
   "outputs": [
    {
     "data": {
      "text/html": [
       "<style>\n",
       ".list-inline {list-style: none; margin:0; padding: 0}\n",
       ".list-inline>li {display: inline-block}\n",
       ".list-inline>li:not(:last-child)::after {content: \"\\00b7\"; padding: 0 .5ex}\n",
       "</style>\n",
       "<ol class=list-inline><li>10</li><li>8</li><li>4</li><li>3</li><li>1</li></ol>\n"
      ],
      "text/latex": [
       "\\begin{enumerate*}\n",
       "\\item 10\n",
       "\\item 8\n",
       "\\item 4\n",
       "\\item 3\n",
       "\\item 1\n",
       "\\end{enumerate*}\n"
      ],
      "text/markdown": [
       "1. 10\n",
       "2. 8\n",
       "3. 4\n",
       "4. 3\n",
       "5. 1\n",
       "\n",
       "\n"
      ],
      "text/plain": [
       "[1] 10  8  4  3  1"
      ]
     },
     "metadata": {},
     "output_type": "display_data"
    }
   ],
   "source": [
    "sort(x, decreasing = T)"
   ]
  },
  {
   "cell_type": "markdown",
   "id": "1a05dff3-e285-4b39-9986-89bbe4768499",
   "metadata": {},
   "source": [
    "order ????"
   ]
  },
  {
   "cell_type": "code",
   "execution_count": 32,
   "id": "da273223-ccc6-4201-8e41-d6208f4d4c99",
   "metadata": {},
   "outputs": [
    {
     "data": {
      "text/html": [
       "<style>\n",
       ".list-inline {list-style: none; margin:0; padding: 0}\n",
       ".list-inline>li {display: inline-block}\n",
       ".list-inline>li:not(:last-child)::after {content: \"\\00b7\"; padding: 0 .5ex}\n",
       "</style>\n",
       "<ol class=list-inline><li>2</li><li>7</li><li>1</li><li>3</li><li>6</li><li>4</li><li>5</li></ol>\n"
      ],
      "text/latex": [
       "\\begin{enumerate*}\n",
       "\\item 2\n",
       "\\item 7\n",
       "\\item 1\n",
       "\\item 3\n",
       "\\item 6\n",
       "\\item 4\n",
       "\\item 5\n",
       "\\end{enumerate*}\n"
      ],
      "text/markdown": [
       "1. 2\n",
       "2. 7\n",
       "3. 1\n",
       "4. 3\n",
       "5. 6\n",
       "6. 4\n",
       "7. 5\n",
       "\n",
       "\n"
      ],
      "text/plain": [
       "[1] 2 7 1 3 6 4 5"
      ]
     },
     "metadata": {},
     "output_type": "display_data"
    }
   ],
   "source": [
    "order(x, decreasing = T)"
   ]
  }
 ],
 "metadata": {
  "kernelspec": {
   "display_name": "R",
   "language": "R",
   "name": "ir"
  },
  "language_info": {
   "codemirror_mode": "r",
   "file_extension": ".r",
   "mimetype": "text/x-r-source",
   "name": "R",
   "pygments_lexer": "r",
   "version": "4.1.1"
  }
 },
 "nbformat": 4,
 "nbformat_minor": 5
}

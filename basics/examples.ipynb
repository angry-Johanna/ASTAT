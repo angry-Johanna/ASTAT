{
 "cells": [
  {
   "cell_type": "markdown",
   "id": "c01d26fb-2a61-48ba-8ba7-1f17342d8cf9",
   "metadata": {
    "tags": []
   },
   "source": [
    "# Examples"
   ]
  },
  {
   "cell_type": "markdown",
   "id": "526cde4c-b002-4846-a8ee-cf31eb493be0",
   "metadata": {},
   "source": [
    "## Fahrenheit & Celsius"
   ]
  },
  {
   "cell_type": "markdown",
   "id": "98af4cac-451a-4f62-8cfb-23fcdbf8f987",
   "metadata": {},
   "source": [
    "Create vector fahrenheit. Create vector celsius out of fahrenheit. Add another vector fahrenheit and substract one another."
   ]
  },
  {
   "cell_type": "code",
   "execution_count": 24,
   "id": "5925b52b-2bc2-4dbc-932b-366de2adc851",
   "metadata": {
    "collapsed": true,
    "jupyter": {
     "outputs_hidden": true
    },
    "tags": []
   },
   "outputs": [
    {
     "data": {
      "text/html": [
       "<style>\n",
       ".list-inline {list-style: none; margin:0; padding: 0}\n",
       ".list-inline>li {display: inline-block}\n",
       ".list-inline>li:not(:last-child)::after {content: \"\\00b7\"; padding: 0 .5ex}\n",
       "</style>\n",
       "<ol class=list-inline><li>51.9</li><li>51.8</li><li>51.9</li><li>53</li></ol>\n"
      ],
      "text/latex": [
       "\\begin{enumerate*}\n",
       "\\item 51.9\n",
       "\\item 51.8\n",
       "\\item 51.9\n",
       "\\item 53\n",
       "\\end{enumerate*}\n"
      ],
      "text/markdown": [
       "1. 51.9\n",
       "2. 51.8\n",
       "3. 51.9\n",
       "4. 53\n",
       "\n",
       "\n"
      ],
      "text/plain": [
       "[1] 51.9 51.8 51.9 53.0"
      ]
     },
     "metadata": {},
     "output_type": "display_data"
    },
    {
     "data": {
      "text/html": [
       "<style>\n",
       ".list-inline {list-style: none; margin:0; padding: 0}\n",
       ".list-inline>li {display: inline-block}\n",
       ".list-inline>li:not(:last-child)::after {content: \"\\00b7\"; padding: 0 .5ex}\n",
       "</style>\n",
       "<ol class=list-inline><li>11.0555555555556</li><li>11</li><li>11.0555555555556</li><li>11.6666666666667</li></ol>\n"
      ],
      "text/latex": [
       "\\begin{enumerate*}\n",
       "\\item 11.0555555555556\n",
       "\\item 11\n",
       "\\item 11.0555555555556\n",
       "\\item 11.6666666666667\n",
       "\\end{enumerate*}\n"
      ],
      "text/markdown": [
       "1. 11.0555555555556\n",
       "2. 11\n",
       "3. 11.0555555555556\n",
       "4. 11.6666666666667\n",
       "\n",
       "\n"
      ],
      "text/plain": [
       "[1] 11.05556 11.00000 11.05556 11.66667"
      ]
     },
     "metadata": {},
     "output_type": "display_data"
    },
    {
     "data": {
      "text/html": [
       "<style>\n",
       ".list-inline {list-style: none; margin:0; padding: 0}\n",
       ".list-inline>li {display: inline-block}\n",
       ".list-inline>li:not(:last-child)::after {content: \"\\00b7\"; padding: 0 .5ex}\n",
       "</style>\n",
       "<ol class=list-inline><li>48</li><li>48.2</li><li>48</li><li>48.7</li></ol>\n"
      ],
      "text/latex": [
       "\\begin{enumerate*}\n",
       "\\item 48\n",
       "\\item 48.2\n",
       "\\item 48\n",
       "\\item 48.7\n",
       "\\end{enumerate*}\n"
      ],
      "text/markdown": [
       "1. 48\n",
       "2. 48.2\n",
       "3. 48\n",
       "4. 48.7\n",
       "\n",
       "\n"
      ],
      "text/plain": [
       "[1] 48.0 48.2 48.0 48.7"
      ]
     },
     "metadata": {},
     "output_type": "display_data"
    },
    {
     "data": {
      "text/html": [
       "<style>\n",
       ".list-inline {list-style: none; margin:0; padding: 0}\n",
       ".list-inline>li {display: inline-block}\n",
       ".list-inline>li:not(:last-child)::after {content: \"\\00b7\"; padding: 0 .5ex}\n",
       "</style>\n",
       "<ol class=list-inline><li>3.9</li><li>3.59999999999999</li><li>3.9</li><li>4.3</li></ol>\n"
      ],
      "text/latex": [
       "\\begin{enumerate*}\n",
       "\\item 3.9\n",
       "\\item 3.59999999999999\n",
       "\\item 3.9\n",
       "\\item 4.3\n",
       "\\end{enumerate*}\n"
      ],
      "text/markdown": [
       "1. 3.9\n",
       "2. 3.59999999999999\n",
       "3. 3.9\n",
       "4. 4.3\n",
       "\n",
       "\n"
      ],
      "text/plain": [
       "[1] 3.9 3.6 3.9 4.3"
      ]
     },
     "metadata": {},
     "output_type": "display_data"
    }
   ],
   "source": [
    "fahrenheit <- c(51.9, 51.8, 51.9, 53)\n",
    "\n",
    "celsius <- (5/9)*(fahrenheit-32)\n",
    "\n",
    "fahrenheit2 <- c(48, 48.2, 48, 48.7)\n",
    "differenz <- fahrenheit - fahrenheit2\n",
    "\n",
    "fahrenheit\n",
    "celsius\n",
    "fahrenheit2\n",
    "differenz"
   ]
  },
  {
   "cell_type": "markdown",
   "id": "1efa58ce-ddb3-4382-bf10-2e55d580b1aa",
   "metadata": {},
   "source": [
    "## BMI"
   ]
  },
  {
   "cell_type": "code",
   "execution_count": 25,
   "id": "c7888265-8488-47f6-a1f0-4e2281ef9936",
   "metadata": {
    "collapsed": true,
    "jupyter": {
     "outputs_hidden": true
    },
    "tags": []
   },
   "outputs": [
    {
     "data": {
      "text/html": [
       "<style>\n",
       ".list-inline {list-style: none; margin:0; padding: 0}\n",
       ".list-inline>li {display: inline-block}\n",
       ".list-inline>li:not(:last-child)::after {content: \"\\00b7\"; padding: 0 .5ex}\n",
       "</style>\n",
       "<ol class=list-inline><li>19.5918367346939</li><li>22.2222222222222</li><li>20.9366391184573</li><li>24.9307479224377</li><li>31.3779891663364</li><li>19.7363010882377</li></ol>\n"
      ],
      "text/latex": [
       "\\begin{enumerate*}\n",
       "\\item 19.5918367346939\n",
       "\\item 22.2222222222222\n",
       "\\item 20.9366391184573\n",
       "\\item 24.9307479224377\n",
       "\\item 31.3779891663364\n",
       "\\item 19.7363010882377\n",
       "\\end{enumerate*}\n"
      ],
      "text/markdown": [
       "1. 19.5918367346939\n",
       "2. 22.2222222222222\n",
       "3. 20.9366391184573\n",
       "4. 24.9307479224377\n",
       "5. 31.3779891663364\n",
       "6. 19.7363010882377\n",
       "\n",
       "\n"
      ],
      "text/plain": [
       "[1] 19.59184 22.22222 20.93664 24.93075 31.37799 19.73630"
      ]
     },
     "metadata": {},
     "output_type": "display_data"
    }
   ],
   "source": [
    "gewicht <- c(60, 72, 57, 90, 95, 72)\n",
    "groesse <- c(1.75, 1.80, 1.65, 1.90, 1.74, 1.91)\n",
    "\n",
    "bmi <- c(gewicht/groesse^2)\n",
    "bmi"
   ]
  }
 ],
 "metadata": {
  "kernelspec": {
   "display_name": "R",
   "language": "R",
   "name": "ir"
  },
  "language_info": {
   "codemirror_mode": "r",
   "file_extension": ".r",
   "mimetype": "text/x-r-source",
   "name": "R",
   "pygments_lexer": "r",
   "version": "4.1.1"
  }
 },
 "nbformat": 4,
 "nbformat_minor": 5
}

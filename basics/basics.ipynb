{
 "cells": [
  {
   "cell_type": "markdown",
   "id": "6f24df1b-49e2-4915-aad3-a5de264722f4",
   "metadata": {},
   "source": [
    "# Basics"
   ]
  },
  {
   "cell_type": "markdown",
   "id": "c807dc35-af7c-4a4b-ba3c-9de39e051662",
   "metadata": {},
   "source": [
    "## Create vector, access values"
   ]
  },
  {
   "cell_type": "markdown",
   "id": "259d5628-0928-47fe-bb4c-b2702f58b152",
   "metadata": {},
   "source": [
    "create vector:"
   ]
  },
  {
   "cell_type": "code",
   "execution_count": 2,
   "id": "c61ed010-ec79-438a-ae49-812248f7a082",
   "metadata": {},
   "outputs": [],
   "source": [
    "v <- c(4, 2, 1, 3, 3, 5, 7)"
   ]
  },
  {
   "cell_type": "markdown",
   "id": "54764c20-e5a6-4bf9-b073-1505826a62f6",
   "metadata": {},
   "source": [
    "third value:"
   ]
  },
  {
   "cell_type": "code",
   "execution_count": 3,
   "id": "7625b221-cf6e-4e75-b0f6-a47f8392f9c4",
   "metadata": {},
   "outputs": [
    {
     "data": {
      "text/html": [
       "1"
      ],
      "text/latex": [
       "1"
      ],
      "text/markdown": [
       "1"
      ],
      "text/plain": [
       "[1] 1"
      ]
     },
     "metadata": {},
     "output_type": "display_data"
    }
   ],
   "source": [
    "v[3]"
   ]
  },
  {
   "cell_type": "markdown",
   "id": "5d1b4fdb-61dc-4aca-bd2b-7a7d923c9ab2",
   "metadata": {},
   "source": [
    "first and fourth value:"
   ]
  },
  {
   "cell_type": "code",
   "execution_count": 4,
   "id": "439c9548-d1de-4d12-aa61-f13bcff668b7",
   "metadata": {},
   "outputs": [
    {
     "data": {
      "text/html": [
       "<style>\n",
       ".list-inline {list-style: none; margin:0; padding: 0}\n",
       ".list-inline>li {display: inline-block}\n",
       ".list-inline>li:not(:last-child)::after {content: \"\\00b7\"; padding: 0 .5ex}\n",
       "</style>\n",
       "<ol class=list-inline><li>4</li><li>3</li></ol>\n"
      ],
      "text/latex": [
       "\\begin{enumerate*}\n",
       "\\item 4\n",
       "\\item 3\n",
       "\\end{enumerate*}\n"
      ],
      "text/markdown": [
       "1. 4\n",
       "2. 3\n",
       "\n",
       "\n"
      ],
      "text/plain": [
       "[1] 4 3"
      ]
     },
     "metadata": {},
     "output_type": "display_data"
    }
   ],
   "source": [
    "v[c(1, 4)]"
   ]
  },
  {
   "cell_type": "markdown",
   "id": "ce717112-ef52-4199-87a8-6b84618c3126",
   "metadata": {},
   "source": [
    "check each value of vector if less or equal three:"
   ]
  },
  {
   "cell_type": "code",
   "execution_count": 11,
   "id": "0d1502b0-acad-4576-91c8-b674b9598b00",
   "metadata": {},
   "outputs": [
    {
     "data": {
      "text/html": [
       "<style>\n",
       ".list-inline {list-style: none; margin:0; padding: 0}\n",
       ".list-inline>li {display: inline-block}\n",
       ".list-inline>li:not(:last-child)::after {content: \"\\00b7\"; padding: 0 .5ex}\n",
       "</style>\n",
       "<ol class=list-inline><li>FALSE</li><li>TRUE</li><li>TRUE</li><li>TRUE</li><li>TRUE</li><li>FALSE</li><li>FALSE</li></ol>\n"
      ],
      "text/latex": [
       "\\begin{enumerate*}\n",
       "\\item FALSE\n",
       "\\item TRUE\n",
       "\\item TRUE\n",
       "\\item TRUE\n",
       "\\item TRUE\n",
       "\\item FALSE\n",
       "\\item FALSE\n",
       "\\end{enumerate*}\n"
      ],
      "text/markdown": [
       "1. FALSE\n",
       "2. TRUE\n",
       "3. TRUE\n",
       "4. TRUE\n",
       "5. TRUE\n",
       "6. FALSE\n",
       "7. FALSE\n",
       "\n",
       "\n"
      ],
      "text/plain": [
       "[1] FALSE  TRUE  TRUE  TRUE  TRUE FALSE FALSE"
      ]
     },
     "metadata": {},
     "output_type": "display_data"
    }
   ],
   "source": [
    "v <= 3"
   ]
  },
  {
   "cell_type": "markdown",
   "id": "cba73ab1-ec04-4150-8d50-7a569bd9a69e",
   "metadata": {},
   "source": [
    "access all values in vector less or equal three:"
   ]
  },
  {
   "cell_type": "code",
   "execution_count": 12,
   "id": "493aeb87-8415-4a8b-a1f9-f4c542c0827d",
   "metadata": {},
   "outputs": [
    {
     "data": {
      "text/html": [
       "<style>\n",
       ".list-inline {list-style: none; margin:0; padding: 0}\n",
       ".list-inline>li {display: inline-block}\n",
       ".list-inline>li:not(:last-child)::after {content: \"\\00b7\"; padding: 0 .5ex}\n",
       "</style>\n",
       "<ol class=list-inline><li>2</li><li>1</li><li>3</li><li>3</li></ol>\n"
      ],
      "text/latex": [
       "\\begin{enumerate*}\n",
       "\\item 2\n",
       "\\item 1\n",
       "\\item 3\n",
       "\\item 3\n",
       "\\end{enumerate*}\n"
      ],
      "text/markdown": [
       "1. 2\n",
       "2. 1\n",
       "3. 3\n",
       "4. 3\n",
       "\n",
       "\n"
      ],
      "text/plain": [
       "[1] 2 1 3 3"
      ]
     },
     "metadata": {},
     "output_type": "display_data"
    }
   ],
   "source": [
    "v[v<=3]"
   ]
  },
  {
   "cell_type": "markdown",
   "id": "248d8d07-59b5-4a3e-a55b-848bfde7fb5b",
   "metadata": {},
   "source": [
    "Replace a value"
   ]
  },
  {
   "cell_type": "code",
   "execution_count": 15,
   "id": "30f74d84-7410-424a-a4b0-1e109c92b167",
   "metadata": {},
   "outputs": [
    {
     "data": {
      "text/html": [
       "<style>\n",
       ".list-inline {list-style: none; margin:0; padding: 0}\n",
       ".list-inline>li {display: inline-block}\n",
       ".list-inline>li:not(:last-child)::after {content: \"\\00b7\"; padding: 0 .5ex}\n",
       "</style>\n",
       "<ol class=list-inline><li>4</li><li>2</li><li>8</li><li>3</li><li>3</li><li>5</li><li>7</li></ol>\n"
      ],
      "text/latex": [
       "\\begin{enumerate*}\n",
       "\\item 4\n",
       "\\item 2\n",
       "\\item 8\n",
       "\\item 3\n",
       "\\item 3\n",
       "\\item 5\n",
       "\\item 7\n",
       "\\end{enumerate*}\n"
      ],
      "text/markdown": [
       "1. 4\n",
       "2. 2\n",
       "3. 8\n",
       "4. 3\n",
       "5. 3\n",
       "6. 5\n",
       "7. 7\n",
       "\n",
       "\n"
      ],
      "text/plain": [
       "[1] 4 2 8 3 3 5 7"
      ]
     },
     "metadata": {},
     "output_type": "display_data"
    }
   ],
   "source": [
    "v[3] <- 8\n",
    "v"
   ]
  }
 ],
 "metadata": {
  "kernelspec": {
   "display_name": "R",
   "language": "R",
   "name": "ir"
  },
  "language_info": {
   "codemirror_mode": "r",
   "file_extension": ".r",
   "mimetype": "text/x-r-source",
   "name": "R",
   "pygments_lexer": "r",
   "version": "4.1.1"
  }
 },
 "nbformat": 4,
 "nbformat_minor": 5
}

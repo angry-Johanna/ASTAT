{
 "cells": [
  {
   "cell_type": "markdown",
   "id": "2098f0b4-90cc-4066-ab4b-687f84c3825f",
   "metadata": {
    "tags": []
   },
   "source": [
    "# Inhaltsverzeichnis\n",
    "* [SW01 Grundlagen](#sw01)\n",
    "* [SW02 Deskriptive Statistik (eindimensional)](#sw02)\n",
    "* [SW03 Histogramm, Zweidimensionale Deskriptive Statistik](#sw03)\n",
    "* [SW04 Korrelation, Wahrscheinlichkeitsmodelle](#sw04)\n",
    "* SW05 Zufallsvariable, Wahrscheinlichkeitsverteilung\n",
    "* [SW06 Bedingte Wahrscheinlichkeit](#sw06)\n",
    "* [SW07 Normalverteilung](#sw07)\n",
    "* [SW08 Gesetz der grossen Zahlen, Zentraler Grenzwertsatz](#sw08)\n",
    "* [SW09](#sw09)\n",
    "* [SW10](#sw10)\n",
    "* [SW11](#sw11)\n",
    "* [SW12](#sw12)\n",
    "* [SW13](#sw13)\n",
    "* [SW14](#sw14)"
   ]
  },
  {
   "cell_type": "markdown",
   "id": "503ba05c-fb6f-4164-86f2-249b7a9fa397",
   "metadata": {},
   "source": [
    "## SW01 <a name=\"sw01\"></a>\n",
    "* [basics](basics/basics.ipynb)\n",
    "* [examples](basics/examples.ipynb)\n",
    "* [load data](basics/load_data.ipynb)\n",
    "* [plot](basics/plot.ipynb)\n",
    "* [vector](basics/vector.ipynb)"
   ]
  },
  {
   "cell_type": "markdown",
   "id": "204c5c17-5acd-4c9f-9f25-00316044faa5",
   "metadata": {},
   "source": [
    "## SW02 <a name=\"sw02\"></a>\n",
    "* [exercises](SW02/exercises.ipynb) / [exercises doc](aufgaben_docs/serie_02.pdf)"
   ]
  },
  {
   "cell_type": "markdown",
   "id": "99e5de8b-045c-4bf1-861f-15251d856436",
   "metadata": {},
   "source": [
    "## SW03 Histogramm, Streudiagramm <a name=\"sw03\"></a>\n",
    "* [exercises](SW03/exercises.ipynb) / [exercises doc](aufgaben_docs/serie_03.pdf)\n",
    "* [Histogramm](SW03/histogramm.ipynb)\n",
    "* [Streudiagramm](SW03/streudiagramm.ipynb)"
   ]
  },
  {
   "cell_type": "markdown",
   "id": "44683c48-53d1-484e-af5a-3ac4a11ada2a",
   "metadata": {},
   "source": [
    "## SW04 Korrelation Wahrscheinlichkeitsmodelle <a name=\"sw04\"></a>\n",
    "* [exercises](SW04/exercises.ipynb) / [exercises doc](aufgaben_docs/serie_04.pdf)\n",
    "* [Korrelation](SW04/emp_korr.ipynb)\n",
    "    * Inhalt:\n",
    "        * Empirische Korrelation\n",
    "            * Empirische Korrelation in R\n",
    "* [Wahrscheinlichkeitsmodell](SW04/wahrscheinlichkeitsmodell.ipynb)\n",
    "    * Inhalt:\n",
    "        * Wahrscheinlichkeitsmodell\n",
    "        * Komponenten\n",
    "            * Würfelwurf\n",
    "            * Münzwurf\n",
    "        * Mengen\n",
    "        * Kolmogorov Axiome der Wahrscheinlichkeitsrechnung\n",
    "        * Rechenregeln aus Axiomen\n",
    "        * Laplace Modell\n",
    "            * Beispiel Laplace\n",
    "        * Stochastische Unabhängigkeit\n",
    "            * Beispiel stochastische Unabhängigkeit"
   ]
  },
  {
   "cell_type": "markdown",
   "id": "808ce1c0-367f-4bab-88dd-c4f345077d01",
   "metadata": {},
   "source": [
    "## SW06 Bedingte Wahrscheinlichkeit <a name=\"sw06\"></a>\n",
    "* [Bedingte Wahrscheinlichkeit](SW06/bedingte_wahrscheinlichkeit.ipynb)\n",
    "    * Inhalt:\n",
    "        * Mengen\n",
    "        * Bedingte Wahrscheinlichkeit\n",
    "        * Bayes' Theorem\n",
    "        * Totale Wahrscheinlichkeit\n",
    "* [Diskrete Wahrscheinlichkeit](SW06/diskrete_wahr.ipynb)\n",
    "    * Inhalt\n",
    "        * Diskrete Wahrscheinlichkeit"
   ]
  },
  {
   "cell_type": "markdown",
   "id": "6c6eeeb6-8720-4534-8e3a-78b81a35ec19",
   "metadata": {},
   "source": [
    "## SW07 Normalverteilung <a name=\"sw07\"></a>\n",
    "* [Normalverteilung](SW07/normalverteilung.ipynb)\n",
    "    * Inhalt:\n",
    "        * Kontinuirliche Messdaten\n",
    "            * Definitionen\n",
    "                * Intervalle\n",
    "        * Wahrscheinlichkeit\n",
    "        * Wahrscheinlichkeitsdichte\n",
    "* [Wahrscheinlichkeitsdichte](SW07/wdichte.ipynb)\n",
    "    * Inhalt:\n",
    "        * Wahrscheinlichkeitsdichte\n",
    "        * Quantile\n",
    "            * Beispiel\n",
    "        * Normalverteilung\n",
    "            * Eigenschaften der Normalverteilung"
   ]
  },
  {
   "cell_type": "markdown",
   "id": "703fd214-bcc2-447d-945d-5ae6e06db438",
   "metadata": {},
   "source": [
    "## SW08 Gesetz der grossen Zahlen, Zentraler Grenzwertsatz <a name=\"sw08\"></a>\n",
    "* [exercises](SW08/exercises.ipynb) / [exercises doc](aufgaben_docs/serie_048pdf)\n",
    "* [Zufallsvariablen](SW08/zufallsvariablen.ipynb)\n",
    "    * Inhalt:\n",
    "            * Summe und Durchschnitt\n",
    "            * Erwartungswert und Varianz\n",
    "            * Allgemein\n",
    "            * Standardfehler\n",
    "            * Übungsbeispiel"
   ]
  },
  {
   "cell_type": "code",
   "execution_count": null,
   "id": "6c823613-4a9c-4b20-bca1-650f4eb7df9e",
   "metadata": {},
   "outputs": [],
   "source": []
  }
 ],
 "metadata": {
  "kernelspec": {
   "display_name": "R",
   "language": "R",
   "name": "ir"
  },
  "language_info": {
   "codemirror_mode": "r",
   "file_extension": ".r",
   "mimetype": "text/x-r-source",
   "name": "R",
   "pygments_lexer": "r",
   "version": "4.1.1"
  }
 },
 "nbformat": 4,
 "nbformat_minor": 5
}

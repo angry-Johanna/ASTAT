{
 "cells": [
  {
   "cell_type": "markdown",
   "id": "30062db3-0f82-4150-82bd-50c6717f960d",
   "metadata": {},
   "source": [
    "# Diskrete Wahrscheinlichkeit\n",
    "## Inhaltsverzeichnis\n",
    "* [Diskrete Wahrscheinlichkeit](#dw)"
   ]
  },
  {
   "cell_type": "markdown",
   "id": "2ac85a56-a515-43b1-a7ec-4873f407c144",
   "metadata": {},
   "source": [
    "## Diskrete Wahrscheinlichkeit <a name=\"dw\"></a>\n",
    "Diskret: Löchrige Menge\n"
   ]
  },
  {
   "cell_type": "code",
   "execution_count": null,
   "id": "0b376d91-0669-434c-a04d-86ab156adfd9",
   "metadata": {},
   "outputs": [],
   "source": []
  }
 ],
 "metadata": {
  "kernelspec": {
   "display_name": "R",
   "language": "R",
   "name": "ir"
  },
  "language_info": {
   "codemirror_mode": "r",
   "file_extension": ".r",
   "mimetype": "text/x-r-source",
   "name": "R",
   "pygments_lexer": "r",
   "version": "4.1.1"
  }
 },
 "nbformat": 4,
 "nbformat_minor": 5
}

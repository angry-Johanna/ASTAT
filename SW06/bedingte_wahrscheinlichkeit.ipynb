{
 "cells": [
  {
   "cell_type": "markdown",
   "id": "274821f2-3765-489d-8468-87952c3983b1",
   "metadata": {},
   "source": [
    "# Bedingte Wahrscheinlichkeit\n",
    "## Inhaltsverzeichnis\n",
    "* [Mengen](#mengen)\n",
    "* [Bedingte Wahrscheinlichkeit](#bw)\n",
    "* [Bayes' Theorem](#bt)\n",
    "* [Totale Wahrscheinlichkeit](#tw)"
   ]
  },
  {
   "cell_type": "markdown",
   "id": "89926af0-650e-40a1-ac17-710b18a22283",
   "metadata": {},
   "source": [
    "## Mengen <a name=\"mengen\"></a>\n",
    "A ist ein Mann (M) und Raucht (R)\n",
    "\n",
    "A gehört zu M und R: $A=|M\\cap R|$\n",
    "\n",
    "Wahrscheinlichkeit, dass A ein Mann ist: 0.6\n",
    "\n",
    "Wahrscheinlichkeit, dass A raucht: 0.2\n",
    "\n",
    "Wahrscheinlichkeit P(), dass A ein Mann (M) ist und Raucht (R):\n",
    "\n",
    "$P(R\\cap M) = \\frac{|R\\cap M|}{\\Omega}$\n",
    "\n",
    "($\\Omega$ ist die Grundmenge)"
   ]
  },
  {
   "cell_type": "markdown",
   "id": "876cfbd5-201e-43fe-812d-2d3f52eea87a",
   "metadata": {},
   "source": [
    "## Bedingte Wahrscheinlichkeit  <a name=\"bw\"></a>\n",
    "Wahrscheinlichkeit P(), dass eine zufällig ausgewählte Person unter den Rauchern (R) ein Mann (M) ist:\n",
    "\n",
    "$P(M|R)=\\frac{|R\\cap M|}{R}$\n",
    "\n",
    "**Achtung**: $P(M|R)$ ist die Wahrscheinlichkeit, dass es M ist unter R (dass ein Raucher männlich ist). $P(R|M)$ ist die Wahrscheinlichkeit, dass es R unter M ist (dass ein Mann Raucher ist). Rechts steht also immer die neue Grundmenge."
   ]
  },
  {
   "cell_type": "markdown",
   "id": "83f74340-2009-43e2-8bda-2a198e546df5",
   "metadata": {},
   "source": [
    "## Bayes' Theorem <a name=\"bt\"></a>\n",
    "Nützlicher Zusammenhang zwischen $P(A|B)$ und $P(B|A)$\n",
    "\n",
    "$P(A|B) = \\frac{P(A\\cap B)}{P(B)} = \\frac{P(B|A)P(A)}{P(B)}$\n",
    "\n",
    "$P(B)$ ist oft nicht bekannt, siehe bei **totale Wahrscheinlichkeit**"
   ]
  },
  {
   "cell_type": "markdown",
   "id": "c3b82f33-f019-4a2e-9ab2-706693c37979",
   "metadata": {},
   "source": [
    "## Totale Wahrscheinlichkeit <a name=\"tw\"></a>\n",
    "Menge $A$ in $A_1$ bis Menge $A_k$ unterteilt, die miteinander keine Schnittmenge haben und zusammen die ganze Menge $A$ bilden. Eine solche Aufteilung heisst **Partitionierung**.\n",
    "\n",
    "### Gesetz der totalen Wahrscheinlichkeit\n",
    "Für die Partitionierung $A_1,...,A_k$ und jedes beliebige Ereignis $B$ gilt:\n",
    "\n",
    "$P(B)=P(B|A_1)P(A_1)+P(B|A_2)P(A_2)+...+P(B|A_k)P(A_k)$\n",
    "\n",
    "$=\\sum\\limits_{i=1}^k P(B|A_k)P(A_k)$"
   ]
  },
  {
   "cell_type": "code",
   "execution_count": null,
   "id": "723cf154-4e8c-4100-8995-f54e30176323",
   "metadata": {},
   "outputs": [],
   "source": []
  }
 ],
 "metadata": {
  "kernelspec": {
   "display_name": "R",
   "language": "R",
   "name": "ir"
  },
  "language_info": {
   "codemirror_mode": "r",
   "file_extension": ".r",
   "mimetype": "text/x-r-source",
   "name": "R",
   "pygments_lexer": "r",
   "version": "4.1.1"
  }
 },
 "nbformat": 4,
 "nbformat_minor": 5
}
